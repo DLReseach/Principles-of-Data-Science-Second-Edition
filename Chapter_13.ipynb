{
 "cells": [
  {
   "cell_type": "code",
   "execution_count": 5,
   "metadata": {},
   "outputs": [],
   "source": [
    "from textblob import TextBlob\n",
    "# use the textblob module to make a function called stringToSentiment that returns a sentences sentiment \n",
    "def stringToSentiment(text): \n",
    "    return TextBlob(text).sentiment.polarity "
   ]
  },
  {
   "cell_type": "code",
   "execution_count": 6,
   "metadata": {},
   "outputs": [
    {
     "data": {
      "text/plain": [
       "0.0"
      ]
     },
     "execution_count": 6,
     "metadata": {},
     "output_type": "execute_result"
    }
   ],
   "source": [
    "stringToSentiment('i hate you') \n",
    "-0.8 \n",
    " \n",
    "stringToSentiment('i love you') \n",
    "0.5 \n",
    " \n",
    "stringToSentiment('i see you') \n",
    "0.0 "
   ]
  },
  {
   "cell_type": "code",
   "execution_count": 7,
   "metadata": {},
   "outputs": [
    {
     "data": {
      "text/html": [
       "<div>\n",
       "<style scoped>\n",
       "    .dataframe tbody tr th:only-of-type {\n",
       "        vertical-align: middle;\n",
       "    }\n",
       "\n",
       "    .dataframe tbody tr th {\n",
       "        vertical-align: top;\n",
       "    }\n",
       "\n",
       "    .dataframe thead th {\n",
       "        text-align: right;\n",
       "    }\n",
       "</style>\n",
       "<table border=\"1\" class=\"dataframe\">\n",
       "  <thead>\n",
       "    <tr style=\"text-align: right;\">\n",
       "      <th></th>\n",
       "      <th>Text</th>\n",
       "      <th>Date</th>\n",
       "      <th>Status</th>\n",
       "      <th>Retweet</th>\n",
       "    </tr>\n",
       "  </thead>\n",
       "  <tbody>\n",
       "    <tr>\n",
       "      <th>0</th>\n",
       "      <td>RT @j_o_h_n_danger: $TWTR now top holding for ...</td>\n",
       "      <td>2015-05-24 03:46:08</td>\n",
       "      <td>602319644234395648</td>\n",
       "      <td>6.022899e+17</td>\n",
       "    </tr>\n",
       "    <tr>\n",
       "      <th>1</th>\n",
       "      <td>RT diggingplatinum RT WWalkerWW: iOS 9 vs. And...</td>\n",
       "      <td>2015-05-24 04:17:42</td>\n",
       "      <td>602327586983796737</td>\n",
       "      <td>NaN</td>\n",
       "    </tr>\n",
       "    <tr>\n",
       "      <th>2</th>\n",
       "      <td>RT bosocial RT insidermonkey RT j_o_h_n_danger...</td>\n",
       "      <td>2015-05-24 04:13:22</td>\n",
       "      <td>602326499534966784</td>\n",
       "      <td>NaN</td>\n",
       "    </tr>\n",
       "    <tr>\n",
       "      <th>3</th>\n",
       "      <td>RT @WWalkerWW: iOS 9 vs. Android M – The New F...</td>\n",
       "      <td>2015-05-24 04:08:34</td>\n",
       "      <td>602325288740114432</td>\n",
       "      <td>6.023104e+17</td>\n",
       "    </tr>\n",
       "    <tr>\n",
       "      <th>4</th>\n",
       "      <td>RT @seeitmarket: Apple Chart Update: Big Test ...</td>\n",
       "      <td>2015-05-24 04:04:42</td>\n",
       "      <td>602324318903771136</td>\n",
       "      <td>6.023215e+17</td>\n",
       "    </tr>\n",
       "  </tbody>\n",
       "</table>\n",
       "</div>"
      ],
      "text/plain": [
       "                                                Text                 Date  \\\n",
       "0  RT @j_o_h_n_danger: $TWTR now top holding for ...  2015-05-24 03:46:08   \n",
       "1  RT diggingplatinum RT WWalkerWW: iOS 9 vs. And...  2015-05-24 04:17:42   \n",
       "2  RT bosocial RT insidermonkey RT j_o_h_n_danger...  2015-05-24 04:13:22   \n",
       "3  RT @WWalkerWW: iOS 9 vs. Android M – The New F...  2015-05-24 04:08:34   \n",
       "4  RT @seeitmarket: Apple Chart Update: Big Test ...  2015-05-24 04:04:42   \n",
       "\n",
       "               Status       Retweet  \n",
       "0  602319644234395648  6.022899e+17  \n",
       "1  602327586983796737           NaN  \n",
       "2  602326499534966784           NaN  \n",
       "3  602325288740114432  6.023104e+17  \n",
       "4  602324318903771136  6.023215e+17  "
      ]
     },
     "execution_count": 7,
     "metadata": {},
     "output_type": "execute_result"
    }
   ],
   "source": [
    "# read in tweets data into a dataframe \n",
    "from textblob import TextBlob \n",
    "import pandas as pd \n",
    "%matplotlib inline \n",
    "# these tweets are from last May and are about Apple (AAPL) \n",
    "tweets = pd.read_csv('so_many_tweets.csv') \n",
    "tweets.head() "
   ]
  },
  {
   "cell_type": "code",
   "execution_count": 8,
   "metadata": {},
   "outputs": [
    {
     "data": {
      "text/plain": [
       "(52512, 4)"
      ]
     },
     "execution_count": 8,
     "metadata": {},
     "output_type": "execute_result"
    }
   ],
   "source": [
    "tweets.shape "
   ]
  },
  {
   "cell_type": "code",
   "execution_count": 9,
   "metadata": {},
   "outputs": [
    {
     "data": {
      "text/html": [
       "<div>\n",
       "<style scoped>\n",
       "    .dataframe tbody tr th:only-of-type {\n",
       "        vertical-align: middle;\n",
       "    }\n",
       "\n",
       "    .dataframe tbody tr th {\n",
       "        vertical-align: top;\n",
       "    }\n",
       "\n",
       "    .dataframe thead th {\n",
       "        text-align: right;\n",
       "    }\n",
       "</style>\n",
       "<table border=\"1\" class=\"dataframe\">\n",
       "  <thead>\n",
       "    <tr style=\"text-align: right;\">\n",
       "      <th></th>\n",
       "      <th>Text</th>\n",
       "      <th>Date</th>\n",
       "      <th>Status</th>\n",
       "      <th>Retweet</th>\n",
       "      <th>sentiment</th>\n",
       "    </tr>\n",
       "  </thead>\n",
       "  <tbody>\n",
       "    <tr>\n",
       "      <th>0</th>\n",
       "      <td>RT @j_o_h_n_danger: $TWTR now top holding for ...</td>\n",
       "      <td>2015-05-24 03:46:08</td>\n",
       "      <td>602319644234395648</td>\n",
       "      <td>6.022899e+17</td>\n",
       "      <td>0.500000</td>\n",
       "    </tr>\n",
       "    <tr>\n",
       "      <th>1</th>\n",
       "      <td>RT diggingplatinum RT WWalkerWW: iOS 9 vs. And...</td>\n",
       "      <td>2015-05-24 04:17:42</td>\n",
       "      <td>602327586983796737</td>\n",
       "      <td>NaN</td>\n",
       "      <td>0.136364</td>\n",
       "    </tr>\n",
       "    <tr>\n",
       "      <th>2</th>\n",
       "      <td>RT bosocial RT insidermonkey RT j_o_h_n_danger...</td>\n",
       "      <td>2015-05-24 04:13:22</td>\n",
       "      <td>602326499534966784</td>\n",
       "      <td>NaN</td>\n",
       "      <td>0.500000</td>\n",
       "    </tr>\n",
       "    <tr>\n",
       "      <th>3</th>\n",
       "      <td>RT @WWalkerWW: iOS 9 vs. Android M – The New F...</td>\n",
       "      <td>2015-05-24 04:08:34</td>\n",
       "      <td>602325288740114432</td>\n",
       "      <td>6.023104e+17</td>\n",
       "      <td>0.136364</td>\n",
       "    </tr>\n",
       "    <tr>\n",
       "      <th>4</th>\n",
       "      <td>RT @seeitmarket: Apple Chart Update: Big Test ...</td>\n",
       "      <td>2015-05-24 04:04:42</td>\n",
       "      <td>602324318903771136</td>\n",
       "      <td>6.023215e+17</td>\n",
       "      <td>0.000000</td>\n",
       "    </tr>\n",
       "  </tbody>\n",
       "</table>\n",
       "</div>"
      ],
      "text/plain": [
       "                                                Text                 Date  \\\n",
       "0  RT @j_o_h_n_danger: $TWTR now top holding for ...  2015-05-24 03:46:08   \n",
       "1  RT diggingplatinum RT WWalkerWW: iOS 9 vs. And...  2015-05-24 04:17:42   \n",
       "2  RT bosocial RT insidermonkey RT j_o_h_n_danger...  2015-05-24 04:13:22   \n",
       "3  RT @WWalkerWW: iOS 9 vs. Android M – The New F...  2015-05-24 04:08:34   \n",
       "4  RT @seeitmarket: Apple Chart Update: Big Test ...  2015-05-24 04:04:42   \n",
       "\n",
       "               Status       Retweet  sentiment  \n",
       "0  602319644234395648  6.022899e+17   0.500000  \n",
       "1  602327586983796737           NaN   0.136364  \n",
       "2  602326499534966784           NaN   0.500000  \n",
       "3  602325288740114432  6.023104e+17   0.136364  \n",
       "4  602324318903771136  6.023215e+17   0.000000  "
      ]
     },
     "execution_count": 9,
     "metadata": {},
     "output_type": "execute_result"
    }
   ],
   "source": [
    "# create a new column in tweets called sentiment that maps stringToSentiment to the text column \n",
    "tweets['sentiment'] = tweets['Text'].apply(stringToSentiment) \n",
    " \n",
    "tweets.head() "
   ]
  },
  {
   "cell_type": "code",
   "execution_count": 10,
   "metadata": {},
   "outputs": [
    {
     "data": {
      "text/plain": [
       "[0, 1, 2, 3, 4]"
      ]
     },
     "execution_count": 10,
     "metadata": {},
     "output_type": "execute_result"
    }
   ],
   "source": [
    "import pandas as pd\n",
    "tweets.index = pd.RangeIndex(start=0, stop=52512, step=1)  \n",
    "# As a list, we can splice it \n",
    "list(tweets.index)[:5] "
   ]
  },
  {
   "cell_type": "code",
   "execution_count": 11,
   "metadata": {},
   "outputs": [
    {
     "data": {
      "text/plain": [
       "0   2015-05-24 03:46:08\n",
       "1   2015-05-24 04:17:42\n",
       "2   2015-05-24 04:13:22\n",
       "3   2015-05-24 04:08:34\n",
       "4   2015-05-24 04:04:42\n",
       "Name: Date, dtype: datetime64[ns]"
      ]
     },
     "execution_count": 11,
     "metadata": {},
     "output_type": "execute_result"
    }
   ],
   "source": [
    "# cast the date column as a datetime \n",
    "tweets['Date'] = pd.to_datetime(tweets.Date) \n",
    "tweets['Date'].head() "
   ]
  },
  {
   "cell_type": "code",
   "execution_count": 16,
   "metadata": {},
   "outputs": [
    {
     "data": {
      "text/plain": [
       "DatetimeIndex(['2015-05-24 03:46:08', '2015-05-24 04:17:42',\n",
       "               '2015-05-24 04:13:22', '2015-05-24 04:08:34',\n",
       "               '2015-05-24 04:04:42', '2015-05-24 04:00:01',\n",
       "               '2015-05-24 03:54:07', '2015-05-24 04:25:29',\n",
       "               '2015-05-24 04:24:47', '2015-05-24 04:06:42',\n",
       "               ...\n",
       "               '2015-05-02 16:30:02', '2015-05-02 16:29:35',\n",
       "               '2015-05-02 16:28:26', '2015-05-02 16:27:53',\n",
       "               '2015-05-02 16:27:02', '2015-05-02 16:26:39',\n",
       "               '2015-05-02 16:25:00', '2015-05-02 16:23:39',\n",
       "               '2015-05-02 16:23:38', '2015-05-02 16:23:21'],\n",
       "              dtype='datetime64[ns]', name='Date', length=52512, freq=None)"
      ]
     },
     "execution_count": 16,
     "metadata": {},
     "output_type": "execute_result"
    }
   ],
   "source": [
    "tweets.index = tweets.Date \n",
    "tweets.index \n",
    "\n"
   ]
  },
  {
   "cell_type": "code",
   "execution_count": 17,
   "metadata": {},
   "outputs": [
    {
     "data": {
      "text/html": [
       "<div>\n",
       "<style scoped>\n",
       "    .dataframe tbody tr th:only-of-type {\n",
       "        vertical-align: middle;\n",
       "    }\n",
       "\n",
       "    .dataframe tbody tr th {\n",
       "        vertical-align: top;\n",
       "    }\n",
       "\n",
       "    .dataframe thead th {\n",
       "        text-align: right;\n",
       "    }\n",
       "</style>\n",
       "<table border=\"1\" class=\"dataframe\">\n",
       "  <thead>\n",
       "    <tr style=\"text-align: right;\">\n",
       "      <th></th>\n",
       "      <th>Text</th>\n",
       "      <th>Date</th>\n",
       "      <th>Status</th>\n",
       "      <th>Retweet</th>\n",
       "      <th>sentiment</th>\n",
       "    </tr>\n",
       "    <tr>\n",
       "      <th>Date</th>\n",
       "      <th></th>\n",
       "      <th></th>\n",
       "      <th></th>\n",
       "      <th></th>\n",
       "      <th></th>\n",
       "    </tr>\n",
       "  </thead>\n",
       "  <tbody>\n",
       "    <tr>\n",
       "      <th>2015-05-24 03:46:08</th>\n",
       "      <td>RT @j_o_h_n_danger: $TWTR now top holding for ...</td>\n",
       "      <td>2015-05-24 03:46:08</td>\n",
       "      <td>602319644234395648</td>\n",
       "      <td>6.022899e+17</td>\n",
       "      <td>0.500000</td>\n",
       "    </tr>\n",
       "    <tr>\n",
       "      <th>2015-05-24 04:17:42</th>\n",
       "      <td>RT diggingplatinum RT WWalkerWW: iOS 9 vs. And...</td>\n",
       "      <td>2015-05-24 04:17:42</td>\n",
       "      <td>602327586983796737</td>\n",
       "      <td>NaN</td>\n",
       "      <td>0.136364</td>\n",
       "    </tr>\n",
       "    <tr>\n",
       "      <th>2015-05-24 04:13:22</th>\n",
       "      <td>RT bosocial RT insidermonkey RT j_o_h_n_danger...</td>\n",
       "      <td>2015-05-24 04:13:22</td>\n",
       "      <td>602326499534966784</td>\n",
       "      <td>NaN</td>\n",
       "      <td>0.500000</td>\n",
       "    </tr>\n",
       "    <tr>\n",
       "      <th>2015-05-24 04:08:34</th>\n",
       "      <td>RT @WWalkerWW: iOS 9 vs. Android M – The New F...</td>\n",
       "      <td>2015-05-24 04:08:34</td>\n",
       "      <td>602325288740114432</td>\n",
       "      <td>6.023104e+17</td>\n",
       "      <td>0.136364</td>\n",
       "    </tr>\n",
       "    <tr>\n",
       "      <th>2015-05-24 04:04:42</th>\n",
       "      <td>RT @seeitmarket: Apple Chart Update: Big Test ...</td>\n",
       "      <td>2015-05-24 04:04:42</td>\n",
       "      <td>602324318903771136</td>\n",
       "      <td>6.023215e+17</td>\n",
       "      <td>0.000000</td>\n",
       "    </tr>\n",
       "  </tbody>\n",
       "</table>\n",
       "</div>"
      ],
      "text/plain": [
       "                                                                  Text  \\\n",
       "Date                                                                     \n",
       "2015-05-24 03:46:08  RT @j_o_h_n_danger: $TWTR now top holding for ...   \n",
       "2015-05-24 04:17:42  RT diggingplatinum RT WWalkerWW: iOS 9 vs. And...   \n",
       "2015-05-24 04:13:22  RT bosocial RT insidermonkey RT j_o_h_n_danger...   \n",
       "2015-05-24 04:08:34  RT @WWalkerWW: iOS 9 vs. Android M – The New F...   \n",
       "2015-05-24 04:04:42  RT @seeitmarket: Apple Chart Update: Big Test ...   \n",
       "\n",
       "                                   Date              Status       Retweet  \\\n",
       "Date                                                                        \n",
       "2015-05-24 03:46:08 2015-05-24 03:46:08  602319644234395648  6.022899e+17   \n",
       "2015-05-24 04:17:42 2015-05-24 04:17:42  602327586983796737           NaN   \n",
       "2015-05-24 04:13:22 2015-05-24 04:13:22  602326499534966784           NaN   \n",
       "2015-05-24 04:08:34 2015-05-24 04:08:34  602325288740114432  6.023104e+17   \n",
       "2015-05-24 04:04:42 2015-05-24 04:04:42  602324318903771136  6.023215e+17   \n",
       "\n",
       "                     sentiment  \n",
       "Date                            \n",
       "2015-05-24 03:46:08   0.500000  \n",
       "2015-05-24 04:17:42   0.136364  \n",
       "2015-05-24 04:13:22   0.500000  \n",
       "2015-05-24 04:08:34   0.136364  \n",
       "2015-05-24 04:04:42   0.000000  "
      ]
     },
     "execution_count": 17,
     "metadata": {},
     "output_type": "execute_result"
    }
   ],
   "source": [
    "tweets.head() "
   ]
  },
  {
   "cell_type": "code",
   "execution_count": 18,
   "metadata": {},
   "outputs": [
    {
     "name": "stderr",
     "output_type": "stream",
     "text": [
      "C:\\Users\\skakade\\AppData\\Local\\Continuum\\anaconda5\\lib\\site-packages\\ipykernel_launcher.py:2: FutureWarning: how in .resample() is deprecated\n",
      "the new syntax is .resample(...).mean()\n",
      "  \n"
     ]
    },
    {
     "data": {
      "text/html": [
       "<div>\n",
       "<style scoped>\n",
       "    .dataframe tbody tr th:only-of-type {\n",
       "        vertical-align: middle;\n",
       "    }\n",
       "\n",
       "    .dataframe tbody tr th {\n",
       "        vertical-align: top;\n",
       "    }\n",
       "\n",
       "    .dataframe thead th {\n",
       "        text-align: right;\n",
       "    }\n",
       "</style>\n",
       "<table border=\"1\" class=\"dataframe\">\n",
       "  <thead>\n",
       "    <tr style=\"text-align: right;\">\n",
       "      <th></th>\n",
       "      <th>sentiment</th>\n",
       "    </tr>\n",
       "    <tr>\n",
       "      <th>Date</th>\n",
       "      <th></th>\n",
       "    </tr>\n",
       "  </thead>\n",
       "  <tbody>\n",
       "    <tr>\n",
       "      <th>2015-05-02</th>\n",
       "      <td>0.083031</td>\n",
       "    </tr>\n",
       "    <tr>\n",
       "      <th>2015-05-03</th>\n",
       "      <td>0.107045</td>\n",
       "    </tr>\n",
       "    <tr>\n",
       "      <th>2015-05-04</th>\n",
       "      <td>0.084062</td>\n",
       "    </tr>\n",
       "    <tr>\n",
       "      <th>2015-05-05</th>\n",
       "      <td>0.063895</td>\n",
       "    </tr>\n",
       "    <tr>\n",
       "      <th>2015-05-06</th>\n",
       "      <td>0.067004</td>\n",
       "    </tr>\n",
       "  </tbody>\n",
       "</table>\n",
       "</div>"
      ],
      "text/plain": [
       "            sentiment\n",
       "Date                 \n",
       "2015-05-02   0.083031\n",
       "2015-05-03   0.107045\n",
       "2015-05-04   0.084062\n",
       "2015-05-05   0.063895\n",
       "2015-05-06   0.067004"
      ]
     },
     "execution_count": 18,
     "metadata": {},
     "output_type": "execute_result"
    }
   ],
   "source": [
    "# create a dataframe called daily_tweets which resamples tweets by D, averaging the columns \n",
    "daily_tweets = tweets[['sentiment']].resample('D', how='mean') \n",
    "# I only want the sentiment column in my new Dataframe. \n",
    "daily_tweets.head()"
   ]
  },
  {
   "cell_type": "code",
   "execution_count": 19,
   "metadata": {},
   "outputs": [
    {
     "data": {
      "text/plain": [
       "(23, 1)"
      ]
     },
     "execution_count": 19,
     "metadata": {},
     "output_type": "execute_result"
    }
   ],
   "source": [
    "daily_tweets.shape"
   ]
  },
  {
   "cell_type": "code",
   "execution_count": 20,
   "metadata": {},
   "outputs": [
    {
     "data": {
      "text/plain": [
       "<matplotlib.axes._subplots.AxesSubplot at 0x1c7ad5d8f98>"
      ]
     },
     "execution_count": 20,
     "metadata": {},
     "output_type": "execute_result"
    },
    {
     "data": {
      "image/png": "[encoded data removed]",
      "text/plain": [
       "<Figure size 432x288 with 1 Axes>"
      ]
     },
     "metadata": {
      "needs_background": "light"
     },
     "output_type": "display_data"
    }
   ],
   "source": [
    "# plot the sentiment as a line graph \n",
    "daily_tweets.sentiment.plot(kind='line') "
   ]
  },
  {
   "cell_type": "code",
   "execution_count": 56,
   "metadata": {},
   "outputs": [
    {
     "data": {
      "text/html": [
       "<div>\n",
       "<style scoped>\n",
       "    .dataframe tbody tr th:only-of-type {\n",
       "        vertical-align: middle;\n",
       "    }\n",
       "\n",
       "    .dataframe tbody tr th {\n",
       "        vertical-align: top;\n",
       "    }\n",
       "\n",
       "    .dataframe thead th {\n",
       "        text-align: right;\n",
       "    }\n",
       "</style>\n",
       "<table border=\"1\" class=\"dataframe\">\n",
       "  <thead>\n",
       "    <tr style=\"text-align: right;\">\n",
       "      <th></th>\n",
       "      <th>High</th>\n",
       "      <th>Low</th>\n",
       "      <th>Open</th>\n",
       "      <th>Close</th>\n",
       "      <th>Volume</th>\n",
       "      <th>Adj Close</th>\n",
       "    </tr>\n",
       "    <tr>\n",
       "      <th>Date</th>\n",
       "      <th></th>\n",
       "      <th></th>\n",
       "      <th></th>\n",
       "      <th></th>\n",
       "      <th></th>\n",
       "      <th></th>\n",
       "    </tr>\n",
       "  </thead>\n",
       "  <tbody>\n",
       "    <tr>\n",
       "      <th>2015-05-04</th>\n",
       "      <td>130.570007</td>\n",
       "      <td>128.259995</td>\n",
       "      <td>129.500000</td>\n",
       "      <td>128.699997</td>\n",
       "      <td>50988300.0</td>\n",
       "      <td>120.922684</td>\n",
       "    </tr>\n",
       "    <tr>\n",
       "      <th>2015-05-05</th>\n",
       "      <td>128.449997</td>\n",
       "      <td>125.779999</td>\n",
       "      <td>128.149994</td>\n",
       "      <td>125.800003</td>\n",
       "      <td>49271400.0</td>\n",
       "      <td>118.197945</td>\n",
       "    </tr>\n",
       "    <tr>\n",
       "      <th>2015-05-06</th>\n",
       "      <td>126.750000</td>\n",
       "      <td>123.360001</td>\n",
       "      <td>126.559998</td>\n",
       "      <td>125.010002</td>\n",
       "      <td>72141000.0</td>\n",
       "      <td>117.455666</td>\n",
       "    </tr>\n",
       "    <tr>\n",
       "      <th>2015-05-07</th>\n",
       "      <td>126.080002</td>\n",
       "      <td>124.019997</td>\n",
       "      <td>124.769997</td>\n",
       "      <td>125.260002</td>\n",
       "      <td>43940900.0</td>\n",
       "      <td>118.182167</td>\n",
       "    </tr>\n",
       "    <tr>\n",
       "      <th>2015-05-08</th>\n",
       "      <td>127.620003</td>\n",
       "      <td>126.110001</td>\n",
       "      <td>126.680000</td>\n",
       "      <td>127.620003</td>\n",
       "      <td>55550400.0</td>\n",
       "      <td>120.408821</td>\n",
       "    </tr>\n",
       "  </tbody>\n",
       "</table>\n",
       "</div>"
      ],
      "text/plain": [
       "                  High         Low        Open       Close      Volume  \\\n",
       "Date                                                                     \n",
       "2015-05-04  130.570007  128.259995  129.500000  128.699997  50988300.0   \n",
       "2015-05-05  128.449997  125.779999  128.149994  125.800003  49271400.0   \n",
       "2015-05-06  126.750000  123.360001  126.559998  125.010002  72141000.0   \n",
       "2015-05-07  126.080002  124.019997  124.769997  125.260002  43940900.0   \n",
       "2015-05-08  127.620003  126.110001  126.680000  127.620003  55550400.0   \n",
       "\n",
       "             Adj Close  \n",
       "Date                    \n",
       "2015-05-04  120.922684  \n",
       "2015-05-05  118.197945  \n",
       "2015-05-06  117.455666  \n",
       "2015-05-07  118.182167  \n",
       "2015-05-08  120.408821  "
      ]
     },
     "execution_count": 56,
     "metadata": {},
     "output_type": "execute_result"
    }
   ],
   "source": [
    "import pandas as pd\n",
    "import pandas_datareader as pdr\n",
    "import datetime \n",
    "historical_prices = pdr.get_data_yahoo('AAPL', \n",
    "                          start=datetime.datetime(2015, 5, 2), \n",
    "                          end=datetime.datetime(2015, 5, 25))\n",
    "\n",
    "\n",
    "prices = pd.DataFrame(historical_prices) \n",
    " \n",
    "prices.head() \n"
   ]
  },
  {
   "cell_type": "code",
   "execution_count": 57,
   "metadata": {},
   "outputs": [
    {
     "name": "stdout",
     "output_type": "stream",
     "text": [
      "<class 'pandas.core.frame.DataFrame'>\n",
      "DatetimeIndex: 16 entries, 2015-05-04 to 2015-05-26\n",
      "Data columns (total 6 columns):\n",
      "High         16 non-null float64\n",
      "Low          16 non-null float64\n",
      "Open         16 non-null float64\n",
      "Close        16 non-null float64\n",
      "Volume       16 non-null float64\n",
      "Adj Close    16 non-null float64\n",
      "dtypes: float64(6)\n",
      "memory usage: 896.0 bytes\n"
     ]
    }
   ],
   "source": [
    " \n",
    "prices.info() #the columns aren't numbers! \n"
   ]
  },
  {
   "cell_type": "code",
   "execution_count": 58,
   "metadata": {},
   "outputs": [
    {
     "data": {
      "text/plain": [
       "<matplotlib.axes._subplots.AxesSubplot at 0x1c7ae2bd6d8>"
      ]
     },
     "execution_count": 58,
     "metadata": {},
     "output_type": "execute_result"
    },
    {
     "data": {
      "image/png": "[encoded data removed]",
      "text/plain": [
       "<Figure size 432x288 with 1 Axes>"
      ]
     },
     "metadata": {
      "needs_background": "light"
     },
     "output_type": "display_data"
    }
   ],
   "source": [
    "# plot both volume and close as line graphs in the same graph, what do you notice is the problem? \n",
    "prices[[\"Volume\", 'Close']].plot()"
   ]
  },
  {
   "cell_type": "code",
   "execution_count": 59,
   "metadata": {},
   "outputs": [
    {
     "data": {
      "text/html": [
       "<div>\n",
       "<style scoped>\n",
       "    .dataframe tbody tr th:only-of-type {\n",
       "        vertical-align: middle;\n",
       "    }\n",
       "\n",
       "    .dataframe tbody tr th {\n",
       "        vertical-align: top;\n",
       "    }\n",
       "\n",
       "    .dataframe thead th {\n",
       "        text-align: right;\n",
       "    }\n",
       "</style>\n",
       "<table border=\"1\" class=\"dataframe\">\n",
       "  <thead>\n",
       "    <tr style=\"text-align: right;\">\n",
       "      <th></th>\n",
       "      <th>Volume</th>\n",
       "      <th>Close</th>\n",
       "    </tr>\n",
       "  </thead>\n",
       "  <tbody>\n",
       "    <tr>\n",
       "      <th>count</th>\n",
       "      <td>1.600000e+01</td>\n",
       "      <td>16.000000</td>\n",
       "    </tr>\n",
       "    <tr>\n",
       "      <th>mean</th>\n",
       "      <td>4.801178e+07</td>\n",
       "      <td>128.261250</td>\n",
       "    </tr>\n",
       "    <tr>\n",
       "      <th>std</th>\n",
       "      <td>1.072519e+07</td>\n",
       "      <td>2.333773</td>\n",
       "    </tr>\n",
       "    <tr>\n",
       "      <th>min</th>\n",
       "      <td>3.469420e+07</td>\n",
       "      <td>125.010002</td>\n",
       "    </tr>\n",
       "    <tr>\n",
       "      <th>25%</th>\n",
       "      <td>4.145945e+07</td>\n",
       "      <td>125.975002</td>\n",
       "    </tr>\n",
       "    <tr>\n",
       "      <th>50%</th>\n",
       "      <td>4.539975e+07</td>\n",
       "      <td>128.735001</td>\n",
       "    </tr>\n",
       "    <tr>\n",
       "      <th>75%</th>\n",
       "      <td>5.090925e+07</td>\n",
       "      <td>130.062500</td>\n",
       "    </tr>\n",
       "    <tr>\n",
       "      <th>max</th>\n",
       "      <td>7.214100e+07</td>\n",
       "      <td>132.539993</td>\n",
       "    </tr>\n",
       "  </tbody>\n",
       "</table>\n",
       "</div>"
      ],
      "text/plain": [
       "             Volume       Close\n",
       "count  1.600000e+01   16.000000\n",
       "mean   4.801178e+07  128.261250\n",
       "std    1.072519e+07    2.333773\n",
       "min    3.469420e+07  125.010002\n",
       "25%    4.145945e+07  125.975002\n",
       "50%    4.539975e+07  128.735001\n",
       "75%    5.090925e+07  130.062500\n",
       "max    7.214100e+07  132.539993"
      ]
     },
     "execution_count": 59,
     "metadata": {},
     "output_type": "execute_result"
    }
   ],
   "source": [
    "prices[[\"Volume\", 'Close']].describe()"
   ]
  },
  {
   "cell_type": "code",
   "execution_count": 61,
   "metadata": {},
   "outputs": [
    {
     "data": {
      "text/plain": [
       "<matplotlib.axes._subplots.AxesSubplot at 0x1c7ae716320>"
      ]
     },
     "execution_count": 61,
     "metadata": {},
     "output_type": "execute_result"
    },
    {
     "data": {
      "image/png": "[encoded data removed]",
      "text/plain": [
       "<Figure size 432x288 with 1 Axes>"
      ]
     },
     "metadata": {
      "needs_background": "light"
     },
     "output_type": "display_data"
    }
   ],
   "source": [
    "from sklearn.preprocessing import StandardScaler\n",
    "# scale the columns by z scores using StandardScaler \n",
    "# Then plot the scaled data \n",
    "s = StandardScaler() \n",
    "only_prices_and_volumes = prices[[\"Volume\", 'Close']] \n",
    "price_volume_scaled = s.fit_transform(only_prices_and_volumes) \n",
    "pd.DataFrame(price_volume_scaled, columns=[\"Volume\", 'Close']).plot() "
   ]
  },
  {
   "cell_type": "code",
   "execution_count": 62,
   "metadata": {},
   "outputs": [
    {
     "data": {
      "text/html": [
       "<div>\n",
       "<style scoped>\n",
       "    .dataframe tbody tr th:only-of-type {\n",
       "        vertical-align: middle;\n",
       "    }\n",
       "\n",
       "    .dataframe tbody tr th {\n",
       "        vertical-align: top;\n",
       "    }\n",
       "\n",
       "    .dataframe thead th {\n",
       "        text-align: right;\n",
       "    }\n",
       "</style>\n",
       "<table border=\"1\" class=\"dataframe\">\n",
       "  <thead>\n",
       "    <tr style=\"text-align: right;\">\n",
       "      <th></th>\n",
       "      <th>Close</th>\n",
       "      <th>sentiment</th>\n",
       "    </tr>\n",
       "    <tr>\n",
       "      <th>Date</th>\n",
       "      <th></th>\n",
       "      <th></th>\n",
       "    </tr>\n",
       "  </thead>\n",
       "  <tbody>\n",
       "    <tr>\n",
       "      <th>2015-05-02</th>\n",
       "      <td>NaN</td>\n",
       "      <td>0.083031</td>\n",
       "    </tr>\n",
       "    <tr>\n",
       "      <th>2015-05-03</th>\n",
       "      <td>NaN</td>\n",
       "      <td>0.107045</td>\n",
       "    </tr>\n",
       "    <tr>\n",
       "      <th>2015-05-04</th>\n",
       "      <td>128.699997</td>\n",
       "      <td>0.084062</td>\n",
       "    </tr>\n",
       "    <tr>\n",
       "      <th>2015-05-05</th>\n",
       "      <td>125.800003</td>\n",
       "      <td>0.063895</td>\n",
       "    </tr>\n",
       "    <tr>\n",
       "      <th>2015-05-06</th>\n",
       "      <td>125.010002</td>\n",
       "      <td>0.067004</td>\n",
       "    </tr>\n",
       "  </tbody>\n",
       "</table>\n",
       "</div>"
      ],
      "text/plain": [
       "                 Close  sentiment\n",
       "Date                             \n",
       "2015-05-02         NaN   0.083031\n",
       "2015-05-03         NaN   0.107045\n",
       "2015-05-04  128.699997   0.084062\n",
       "2015-05-05  125.800003   0.063895\n",
       "2015-05-06  125.010002   0.067004"
      ]
     },
     "execution_count": 62,
     "metadata": {},
     "output_type": "execute_result"
    }
   ],
   "source": [
    "# concatinate prices.Close, and daily_tweets.sentiment \n",
    " \n",
    "merged = pd.concat([prices.Close, daily_tweets.sentiment], axis=1) \n",
    "merged.head() "
   ]
  },
  {
   "cell_type": "code",
   "execution_count": 63,
   "metadata": {},
   "outputs": [],
   "source": [
    "# Delete any rows with missing values in any column \n",
    "merged.dropna(inplace=True) "
   ]
  },
  {
   "cell_type": "code",
   "execution_count": 64,
   "metadata": {},
   "outputs": [
    {
     "data": {
      "text/plain": [
       "<matplotlib.axes._subplots.AxesSubplot at 0x1c7ae75d358>"
      ]
     },
     "execution_count": 64,
     "metadata": {},
     "output_type": "execute_result"
    },
    {
     "data": {
      "image/png": "[encoded data removed]",
      "text/plain": [
       "<Figure size 432x288 with 1 Axes>"
      ]
     },
     "metadata": {
      "needs_background": "light"
     },
     "output_type": "display_data"
    }
   ],
   "source": [
    "merged.plot() \n",
    "# wow that looks awful "
   ]
  },
  {
   "cell_type": "code",
   "execution_count": 65,
   "metadata": {},
   "outputs": [
    {
     "data": {
      "text/plain": [
       "<matplotlib.axes._subplots.AxesSubplot at 0x1c7ae6d0a58>"
      ]
     },
     "execution_count": 65,
     "metadata": {},
     "output_type": "execute_result"
    },
    {
     "data": {
      "image/png": "[encoded data removed]",
      "text/plain": [
       "<Figure size 432x288 with 1 Axes>"
      ]
     },
     "metadata": {
      "needs_background": "light"
     },
     "output_type": "display_data"
    }
   ],
   "source": [
    "# scale the columns by z scores using StandardScaler \n",
    "from sklearn.preprocessing import StandardScaler \n",
    "s = StandardScaler() \n",
    "merged_scaled = s.fit_transform(merged) \n",
    " \n",
    "pd.DataFrame(merged_scaled, columns=merged.columns).plot() \n",
    "# notice how sentiment seems to follow the closing price \n",
    " "
   ]
  },
  {
   "cell_type": "code",
   "execution_count": 66,
   "metadata": {},
   "outputs": [
    {
     "data": {
      "text/html": [
       "<div>\n",
       "<style scoped>\n",
       "    .dataframe tbody tr th:only-of-type {\n",
       "        vertical-align: middle;\n",
       "    }\n",
       "\n",
       "    .dataframe tbody tr th {\n",
       "        vertical-align: top;\n",
       "    }\n",
       "\n",
       "    .dataframe thead th {\n",
       "        text-align: right;\n",
       "    }\n",
       "</style>\n",
       "<table border=\"1\" class=\"dataframe\">\n",
       "  <thead>\n",
       "    <tr style=\"text-align: right;\">\n",
       "      <th></th>\n",
       "      <th>Close</th>\n",
       "      <th>sentiment</th>\n",
       "      <th>yesterday_sentiment</th>\n",
       "    </tr>\n",
       "    <tr>\n",
       "      <th>Date</th>\n",
       "      <th></th>\n",
       "      <th></th>\n",
       "      <th></th>\n",
       "    </tr>\n",
       "  </thead>\n",
       "  <tbody>\n",
       "    <tr>\n",
       "      <th>2015-05-04</th>\n",
       "      <td>128.699997</td>\n",
       "      <td>0.084062</td>\n",
       "      <td>NaN</td>\n",
       "    </tr>\n",
       "    <tr>\n",
       "      <th>2015-05-05</th>\n",
       "      <td>125.800003</td>\n",
       "      <td>0.063895</td>\n",
       "      <td>0.084062</td>\n",
       "    </tr>\n",
       "    <tr>\n",
       "      <th>2015-05-06</th>\n",
       "      <td>125.010002</td>\n",
       "      <td>0.067004</td>\n",
       "      <td>0.063895</td>\n",
       "    </tr>\n",
       "    <tr>\n",
       "      <th>2015-05-07</th>\n",
       "      <td>125.260002</td>\n",
       "      <td>0.078972</td>\n",
       "      <td>0.067004</td>\n",
       "    </tr>\n",
       "    <tr>\n",
       "      <th>2015-05-08</th>\n",
       "      <td>127.620003</td>\n",
       "      <td>0.102869</td>\n",
       "      <td>0.078972</td>\n",
       "    </tr>\n",
       "  </tbody>\n",
       "</table>\n",
       "</div>"
      ],
      "text/plain": [
       "                 Close  sentiment  yesterday_sentiment\n",
       "Date                                                  \n",
       "2015-05-04  128.699997   0.084062                  NaN\n",
       "2015-05-05  125.800003   0.063895             0.084062\n",
       "2015-05-06  125.010002   0.067004             0.063895\n",
       "2015-05-07  125.260002   0.078972             0.067004\n",
       "2015-05-08  127.620003   0.102869             0.078972"
      ]
     },
     "execution_count": 66,
     "metadata": {},
     "output_type": "execute_result"
    }
   ],
   "source": [
    "# Shift the sentiment column backwards one item \n",
    " \n",
    "merged['yesterday_sentiment'] = merged['sentiment'].shift(1) \n",
    "merged.head() "
   ]
  },
  {
   "cell_type": "code",
   "execution_count": 67,
   "metadata": {},
   "outputs": [
    {
     "name": "stderr",
     "output_type": "stream",
     "text": [
      "C:\\Users\\skakade\\AppData\\Local\\Continuum\\anaconda5\\lib\\site-packages\\ipykernel_launcher.py:4: SettingWithCopyWarning: \n",
      "A value is trying to be set on a copy of a slice from a DataFrame\n",
      "\n",
      "See the caveats in the documentation: http://pandas.pydata.org/pandas-docs/stable/indexing.html#indexing-view-versus-copy\n",
      "  after removing the cwd from sys.path.\n"
     ]
    },
    {
     "data": {
      "text/html": [
       "<div>\n",
       "<style scoped>\n",
       "    .dataframe tbody tr th:only-of-type {\n",
       "        vertical-align: middle;\n",
       "    }\n",
       "\n",
       "    .dataframe tbody tr th {\n",
       "        vertical-align: top;\n",
       "    }\n",
       "\n",
       "    .dataframe thead th {\n",
       "        text-align: right;\n",
       "    }\n",
       "</style>\n",
       "<table border=\"1\" class=\"dataframe\">\n",
       "  <thead>\n",
       "    <tr style=\"text-align: right;\">\n",
       "      <th></th>\n",
       "      <th>yesterday_sentiment</th>\n",
       "      <th>Close</th>\n",
       "    </tr>\n",
       "    <tr>\n",
       "      <th>Date</th>\n",
       "      <th></th>\n",
       "      <th></th>\n",
       "    </tr>\n",
       "  </thead>\n",
       "  <tbody>\n",
       "    <tr>\n",
       "      <th>2015-05-05</th>\n",
       "      <td>0.084062</td>\n",
       "      <td>125.800003</td>\n",
       "    </tr>\n",
       "    <tr>\n",
       "      <th>2015-05-06</th>\n",
       "      <td>0.063895</td>\n",
       "      <td>125.010002</td>\n",
       "    </tr>\n",
       "    <tr>\n",
       "      <th>2015-05-07</th>\n",
       "      <td>0.067004</td>\n",
       "      <td>125.260002</td>\n",
       "    </tr>\n",
       "    <tr>\n",
       "      <th>2015-05-08</th>\n",
       "      <td>0.078972</td>\n",
       "      <td>127.620003</td>\n",
       "    </tr>\n",
       "    <tr>\n",
       "      <th>2015-05-11</th>\n",
       "      <td>0.102869</td>\n",
       "      <td>126.320000</td>\n",
       "    </tr>\n",
       "  </tbody>\n",
       "</table>\n",
       "</div>"
      ],
      "text/plain": [
       "            yesterday_sentiment       Close\n",
       "Date                                       \n",
       "2015-05-05             0.084062  125.800003\n",
       "2015-05-06             0.063895  125.010002\n",
       "2015-05-07             0.067004  125.260002\n",
       "2015-05-08             0.078972  127.620003\n",
       "2015-05-11             0.102869  126.320000"
      ]
     },
     "execution_count": 67,
     "metadata": {},
     "output_type": "execute_result"
    }
   ],
   "source": [
    "# Make a new dataframe for our regression and drop the null values \n",
    " \n",
    "regression_df = merged[['yesterday_sentiment', 'Close']] \n",
    "regression_df.dropna(inplace=True) \n",
    "regression_df.head() "
   ]
  },
  {
   "cell_type": "code",
   "execution_count": 68,
   "metadata": {},
   "outputs": [
    {
     "name": "stderr",
     "output_type": "stream",
     "text": [
      "C:\\Users\\skakade\\AppData\\Local\\Continuum\\anaconda5\\lib\\site-packages\\sklearn\\ensemble\\weight_boosting.py:29: DeprecationWarning: numpy.core.umath_tests is an internal NumPy module and should not be imported. It will be removed in a future NumPy release.\n",
      "  from numpy.core.umath_tests import inner1d\n",
      "C:\\Users\\skakade\\AppData\\Local\\Continuum\\anaconda5\\lib\\site-packages\\sklearn\\cross_validation.py:41: DeprecationWarning: This module was deprecated in version 0.18 in favor of the model_selection module into which all the refactored classes and functions are moved. Also note that the interface of the new CV iterators are different from that of this module. This module will be removed in 0.20.\n",
      "  \"This module will be removed in 0.20.\", DeprecationWarning)\n"
     ]
    }
   ],
   "source": [
    "# Imports for our regression \n",
    " \n",
    "from sklearn.linear_model import LinearRegression \n",
    "from sklearn.ensemble import RandomForestRegressor \n",
    "from sklearn.cross_validation import cross_val_score \n",
    "import numpy as np "
   ]
  },
  {
   "cell_type": "code",
   "execution_count": 69,
   "metadata": {},
   "outputs": [
    {
     "name": "stderr",
     "output_type": "stream",
     "text": [
      "C:\\Users\\skakade\\AppData\\Local\\Continuum\\anaconda5\\lib\\site-packages\\sklearn\\metrics\\scorer.py:100: DeprecationWarning: Scoring method mean_squared_error was renamed to neg_mean_squared_error in version 0.18 and will be removed in 0.20.\n",
      "  sample_weight=sample_weight)\n",
      "C:\\Users\\skakade\\AppData\\Local\\Continuum\\anaconda5\\lib\\site-packages\\sklearn\\metrics\\scorer.py:100: DeprecationWarning: Scoring method mean_squared_error was renamed to neg_mean_squared_error in version 0.18 and will be removed in 0.20.\n",
      "  sample_weight=sample_weight)\n",
      "C:\\Users\\skakade\\AppData\\Local\\Continuum\\anaconda5\\lib\\site-packages\\sklearn\\metrics\\scorer.py:100: DeprecationWarning: Scoring method mean_squared_error was renamed to neg_mean_squared_error in version 0.18 and will be removed in 0.20.\n",
      "  sample_weight=sample_weight)\n",
      "C:\\Users\\skakade\\AppData\\Local\\Continuum\\anaconda5\\lib\\site-packages\\sklearn\\metrics\\scorer.py:100: DeprecationWarning: Scoring method mean_squared_error was renamed to neg_mean_squared_error in version 0.18 and will be removed in 0.20.\n",
      "  sample_weight=sample_weight)\n",
      "C:\\Users\\skakade\\AppData\\Local\\Continuum\\anaconda5\\lib\\site-packages\\sklearn\\metrics\\scorer.py:100: DeprecationWarning: Scoring method mean_squared_error was renamed to neg_mean_squared_error in version 0.18 and will be removed in 0.20.\n",
      "  sample_weight=sample_weight)\n",
      "C:\\Users\\skakade\\AppData\\Local\\Continuum\\anaconda5\\lib\\site-packages\\sklearn\\metrics\\scorer.py:100: DeprecationWarning: Scoring method mean_squared_error was renamed to neg_mean_squared_error in version 0.18 and will be removed in 0.20.\n",
      "  sample_weight=sample_weight)\n"
     ]
    },
    {
     "data": {
      "text/plain": [
       "3.30603"
      ]
     },
     "execution_count": 69,
     "metadata": {},
     "output_type": "execute_result"
    }
   ],
   "source": [
    "# Our RMSE as a result of cross validation linear regression \n",
    " \n",
    "linreg = LinearRegression() \n",
    "rmse_cv = np.sqrt(abs(cross_val_score(linreg, regression_df[['yesterday_sentiment']], regression_df['Close'], cv=3, scoring='mean_squared_error').mean())) \n",
    "rmse_cv \n",
    " \n",
    "3.49837 \n",
    " \n",
    "# Our RMSE as a result of cross validation random forest \n",
    " \n",
    "rf = RandomForestRegressor() \n",
    "rmse_cv = np.sqrt(abs(cross_val_score(rf, regression_df[['yesterday_sentiment']], regression_df['Close'], cv=3, scoring='mean_squared_error').mean())) \n",
    "rmse_cv \n",
    " \n",
    "3.30603 "
   ]
  },
  {
   "cell_type": "code",
   "execution_count": 70,
   "metadata": {},
   "outputs": [
    {
     "data": {
      "text/plain": [
       "count     14.000000\n",
       "mean     128.132858\n",
       "std        2.471810\n",
       "min      125.010002\n",
       "25%      125.905003\n",
       "50%      128.195004\n",
       "75%      130.067505\n",
       "max      132.539993\n",
       "Name: Close, dtype: float64"
      ]
     },
     "execution_count": 70,
     "metadata": {},
     "output_type": "execute_result"
    }
   ],
   "source": [
    "regression_df['Close'].describe() "
   ]
  },
  {
   "cell_type": "code",
   "execution_count": 71,
   "metadata": {},
   "outputs": [
    {
     "data": {
      "text/plain": [
       "2.381895837988644"
      ]
     },
     "execution_count": 71,
     "metadata": {},
     "output_type": "execute_result"
    }
   ],
   "source": [
    "# null model for regression \n",
    "mean_close = regression_df['Close'].mean() \n",
    "preds = [mean_close]*regression_df.shape[0] \n",
    "preds \n",
    "from sklearn.metrics import mean_squared_error \n",
    "null_rmse = np.sqrt(mean_squared_error(preds, regression_df['Close'])) \n",
    "null_rmse "
   ]
  },
  {
   "cell_type": "code",
   "execution_count": 72,
   "metadata": {},
   "outputs": [
    {
     "data": {
      "text/html": [
       "<div>\n",
       "<style scoped>\n",
       "    .dataframe tbody tr th:only-of-type {\n",
       "        vertical-align: middle;\n",
       "    }\n",
       "\n",
       "    .dataframe tbody tr th {\n",
       "        vertical-align: top;\n",
       "    }\n",
       "\n",
       "    .dataframe thead th {\n",
       "        text-align: right;\n",
       "    }\n",
       "</style>\n",
       "<table border=\"1\" class=\"dataframe\">\n",
       "  <thead>\n",
       "    <tr style=\"text-align: right;\">\n",
       "      <th></th>\n",
       "      <th>yesterday_sentiment</th>\n",
       "      <th>Close</th>\n",
       "      <th>yesterday_close</th>\n",
       "      <th>percent_change_in_price</th>\n",
       "      <th>change_close_big_deal</th>\n",
       "    </tr>\n",
       "    <tr>\n",
       "      <th>Date</th>\n",
       "      <th></th>\n",
       "      <th></th>\n",
       "      <th></th>\n",
       "      <th></th>\n",
       "      <th></th>\n",
       "    </tr>\n",
       "  </thead>\n",
       "  <tbody>\n",
       "    <tr>\n",
       "      <th>2015-05-05</th>\n",
       "      <td>0.084062</td>\n",
       "      <td>125.800003</td>\n",
       "      <td>128.699997</td>\n",
       "      <td>-0.022533</td>\n",
       "      <td>True</td>\n",
       "    </tr>\n",
       "    <tr>\n",
       "      <th>2015-05-06</th>\n",
       "      <td>0.063895</td>\n",
       "      <td>125.010002</td>\n",
       "      <td>125.800003</td>\n",
       "      <td>-0.006280</td>\n",
       "      <td>False</td>\n",
       "    </tr>\n",
       "    <tr>\n",
       "      <th>2015-05-07</th>\n",
       "      <td>0.067004</td>\n",
       "      <td>125.260002</td>\n",
       "      <td>125.010002</td>\n",
       "      <td>0.002000</td>\n",
       "      <td>False</td>\n",
       "    </tr>\n",
       "    <tr>\n",
       "      <th>2015-05-08</th>\n",
       "      <td>0.078972</td>\n",
       "      <td>127.620003</td>\n",
       "      <td>125.260002</td>\n",
       "      <td>0.018841</td>\n",
       "      <td>True</td>\n",
       "    </tr>\n",
       "    <tr>\n",
       "      <th>2015-05-11</th>\n",
       "      <td>0.102869</td>\n",
       "      <td>126.320000</td>\n",
       "      <td>127.620003</td>\n",
       "      <td>-0.010187</td>\n",
       "      <td>True</td>\n",
       "    </tr>\n",
       "  </tbody>\n",
       "</table>\n",
       "</div>"
      ],
      "text/plain": [
       "            yesterday_sentiment       Close  yesterday_close  \\\n",
       "Date                                                           \n",
       "2015-05-05             0.084062  125.800003       128.699997   \n",
       "2015-05-06             0.063895  125.010002       125.800003   \n",
       "2015-05-07             0.067004  125.260002       125.010002   \n",
       "2015-05-08             0.078972  127.620003       125.260002   \n",
       "2015-05-11             0.102869  126.320000       127.620003   \n",
       "\n",
       "            percent_change_in_price  change_close_big_deal  \n",
       "Date                                                        \n",
       "2015-05-05                -0.022533                   True  \n",
       "2015-05-06                -0.006280                  False  \n",
       "2015-05-07                 0.002000                  False  \n",
       "2015-05-08                 0.018841                   True  \n",
       "2015-05-11                -0.010187                   True  "
      ]
     },
     "execution_count": 72,
     "metadata": {},
     "output_type": "execute_result"
    }
   ],
   "source": [
    "# Imports for our classification \n",
    " \n",
    "from sklearn.linear_model import LogisticRegression \n",
    "from sklearn.ensemble import RandomForestClassifier \n",
    "from sklearn.cross_validation import cross_val_score \n",
    "import numpy as np \n",
    " \n",
    " \n",
    " \n",
    "# Make a new dataframe for our classification and drop the null values \n",
    " \n",
    "classification_df = merged[['yesterday_sentiment', 'Close']] \n",
    " \n",
    "# variable to represent yesterday's closing price \n",
    "classification_df['yesterday_close'] = classification_df['Close'].shift(1) \n",
    " \n",
    " \n",
    "# column that represents the precent change in price since yesterday \n",
    "classification_df['percent_change_in_price'] = (classification_df['Close']-classification_df['yesterday_close']) / classification_df['yesterday_close'] \n",
    " \n",
    " \n",
    "# drop any null values \n",
    "classification_df.dropna(inplace=True) \n",
    "classification_df.head() \n",
    " \n",
    " \n",
    "# Our new classification response \n",
    " \n",
    "classification_df['change_close_big_deal'] = abs(classification_df['percent_change_in_price'] ) > .01 \n",
    "classification_df.head() "
   ]
  },
  {
   "cell_type": "code",
   "execution_count": 73,
   "metadata": {},
   "outputs": [
    {
     "data": {
      "text/plain": [
       "0.1777777"
      ]
     },
     "execution_count": 73,
     "metadata": {},
     "output_type": "execute_result"
    }
   ],
   "source": [
    "# Our accuracy as a result of cross validation random forest \n",
    " \n",
    "rf = RandomForestClassifier() \n",
    "accuracy_cv = cross_val_score(rf, classification_df[['yesterday_sentiment']], classification_df['change_close_big_deal'], cv=3, scoring='accuracy').mean() \n",
    " \n",
    "accuracy_cv \n",
    " \n",
    "0.1777777 "
   ]
  },
  {
   "cell_type": "code",
   "execution_count": 74,
   "metadata": {},
   "outputs": [
    {
     "data": {
      "text/plain": [
       "0.5888"
      ]
     },
     "execution_count": 74,
     "metadata": {},
     "output_type": "execute_result"
    }
   ],
   "source": [
    "# Our accuracy as a result of cross validation logistic regression \n",
    " \n",
    "logreg = LogisticRegression() \n",
    "accuracy_cv = cross_val_score(logreg, classification_df[['yesterday_sentiment']], classification_df['change_close_big_deal'], cv=3, scoring='accuracy').mean() \n",
    " \n",
    "accuracy_cv \n",
    " \n",
    "0.5888 "
   ]
  },
  {
   "cell_type": "code",
   "execution_count": 75,
   "metadata": {},
   "outputs": [
    {
     "data": {
      "text/plain": [
       "0.5833333"
      ]
     },
     "execution_count": 75,
     "metadata": {},
     "output_type": "execute_result"
    }
   ],
   "source": [
    "# null model for classification \n",
    "null_accuracy = 1 - classification_df['change_close_big_deal'].mean() \n",
    " \n",
    "null_accuracy \n",
    " \n",
    "0.5833333 "
   ]
  },
  {
   "cell_type": "code",
   "execution_count": 76,
   "metadata": {},
   "outputs": [
    {
     "data": {
      "text/html": [
       "<div>\n",
       "<style scoped>\n",
       "    .dataframe tbody tr th:only-of-type {\n",
       "        vertical-align: middle;\n",
       "    }\n",
       "\n",
       "    .dataframe tbody tr th {\n",
       "        vertical-align: top;\n",
       "    }\n",
       "\n",
       "    .dataframe thead th {\n",
       "        text-align: right;\n",
       "    }\n",
       "</style>\n",
       "<table border=\"1\" class=\"dataframe\">\n",
       "  <thead>\n",
       "    <tr style=\"text-align: right;\">\n",
       "      <th></th>\n",
       "      <th>rate_marriage</th>\n",
       "      <th>age</th>\n",
       "      <th>yrs_married</th>\n",
       "      <th>children</th>\n",
       "      <th>religious</th>\n",
       "      <th>educ</th>\n",
       "      <th>occupation</th>\n",
       "      <th>occupation_husb</th>\n",
       "      <th>affairs</th>\n",
       "    </tr>\n",
       "  </thead>\n",
       "  <tbody>\n",
       "    <tr>\n",
       "      <th>0</th>\n",
       "      <td>3.0</td>\n",
       "      <td>32.0</td>\n",
       "      <td>9.0</td>\n",
       "      <td>3.0</td>\n",
       "      <td>3.0</td>\n",
       "      <td>17.0</td>\n",
       "      <td>2.0</td>\n",
       "      <td>5.0</td>\n",
       "      <td>0.111111</td>\n",
       "    </tr>\n",
       "    <tr>\n",
       "      <th>1</th>\n",
       "      <td>3.0</td>\n",
       "      <td>27.0</td>\n",
       "      <td>13.0</td>\n",
       "      <td>3.0</td>\n",
       "      <td>1.0</td>\n",
       "      <td>14.0</td>\n",
       "      <td>3.0</td>\n",
       "      <td>4.0</td>\n",
       "      <td>3.230769</td>\n",
       "    </tr>\n",
       "    <tr>\n",
       "      <th>2</th>\n",
       "      <td>4.0</td>\n",
       "      <td>22.0</td>\n",
       "      <td>2.5</td>\n",
       "      <td>0.0</td>\n",
       "      <td>1.0</td>\n",
       "      <td>16.0</td>\n",
       "      <td>3.0</td>\n",
       "      <td>5.0</td>\n",
       "      <td>1.400000</td>\n",
       "    </tr>\n",
       "    <tr>\n",
       "      <th>3</th>\n",
       "      <td>4.0</td>\n",
       "      <td>37.0</td>\n",
       "      <td>16.5</td>\n",
       "      <td>4.0</td>\n",
       "      <td>3.0</td>\n",
       "      <td>16.0</td>\n",
       "      <td>5.0</td>\n",
       "      <td>5.0</td>\n",
       "      <td>0.727273</td>\n",
       "    </tr>\n",
       "    <tr>\n",
       "      <th>4</th>\n",
       "      <td>5.0</td>\n",
       "      <td>27.0</td>\n",
       "      <td>9.0</td>\n",
       "      <td>1.0</td>\n",
       "      <td>1.0</td>\n",
       "      <td>14.0</td>\n",
       "      <td>3.0</td>\n",
       "      <td>4.0</td>\n",
       "      <td>4.666666</td>\n",
       "    </tr>\n",
       "  </tbody>\n",
       "</table>\n",
       "</div>"
      ],
      "text/plain": [
       "   rate_marriage   age  yrs_married  children  religious  educ  occupation  \\\n",
       "0            3.0  32.0          9.0       3.0        3.0  17.0         2.0   \n",
       "1            3.0  27.0         13.0       3.0        1.0  14.0         3.0   \n",
       "2            4.0  22.0          2.5       0.0        1.0  16.0         3.0   \n",
       "3            4.0  37.0         16.5       4.0        3.0  16.0         5.0   \n",
       "4            5.0  27.0          9.0       1.0        1.0  14.0         3.0   \n",
       "\n",
       "   occupation_husb   affairs  \n",
       "0              5.0  0.111111  \n",
       "1              4.0  3.230769  \n",
       "2              5.0  1.400000  \n",
       "3              5.0  0.727273  \n",
       "4              4.0  4.666666  "
      ]
     },
     "execution_count": 76,
     "metadata": {},
     "output_type": "execute_result"
    }
   ],
   "source": [
    "# Using dataset of a 1978 survey conducted to measure likliehood of women to perform extramarital affairs \n",
    "# http://statsmodels.sourceforge.net/stable/datasets/generated/fair.html \n",
    " \n",
    "import statsmodels.api as sm \n",
    "affairs_df = sm.datasets.fair.load_pandas().data \n",
    "affairs_df.head() \n",
    " \n"
   ]
  },
  {
   "cell_type": "code",
   "execution_count": 77,
   "metadata": {},
   "outputs": [],
   "source": [
    "# Create a categorical variable \n",
    " \n",
    "affairs_df['affair_binary'] = (affairs_df['affairs'] > 0)"
   ]
  },
  {
   "cell_type": "code",
   "execution_count": 78,
   "metadata": {},
   "outputs": [
    {
     "data": {
      "text/html": [
       "<div>\n",
       "<style scoped>\n",
       "    .dataframe tbody tr th:only-of-type {\n",
       "        vertical-align: middle;\n",
       "    }\n",
       "\n",
       "    .dataframe tbody tr th {\n",
       "        vertical-align: top;\n",
       "    }\n",
       "\n",
       "    .dataframe thead th {\n",
       "        text-align: right;\n",
       "    }\n",
       "</style>\n",
       "<table border=\"1\" class=\"dataframe\">\n",
       "  <thead>\n",
       "    <tr style=\"text-align: right;\">\n",
       "      <th></th>\n",
       "      <th>rate_marriage</th>\n",
       "      <th>age</th>\n",
       "      <th>yrs_married</th>\n",
       "      <th>children</th>\n",
       "      <th>religious</th>\n",
       "      <th>educ</th>\n",
       "      <th>occupation</th>\n",
       "      <th>occupation_husb</th>\n",
       "      <th>affairs</th>\n",
       "      <th>affair_binary</th>\n",
       "    </tr>\n",
       "  </thead>\n",
       "  <tbody>\n",
       "    <tr>\n",
       "      <th>rate_marriage</th>\n",
       "      <td>1.000000</td>\n",
       "      <td>-0.111127</td>\n",
       "      <td>-0.128978</td>\n",
       "      <td>-0.129161</td>\n",
       "      <td>0.078794</td>\n",
       "      <td>0.079869</td>\n",
       "      <td>0.039528</td>\n",
       "      <td>0.027745</td>\n",
       "      <td>-0.178068</td>\n",
       "      <td>-0.331776</td>\n",
       "    </tr>\n",
       "    <tr>\n",
       "      <th>age</th>\n",
       "      <td>-0.111127</td>\n",
       "      <td>1.000000</td>\n",
       "      <td>0.894082</td>\n",
       "      <td>0.673902</td>\n",
       "      <td>0.136598</td>\n",
       "      <td>0.027960</td>\n",
       "      <td>0.106127</td>\n",
       "      <td>0.162567</td>\n",
       "      <td>-0.089964</td>\n",
       "      <td>0.146519</td>\n",
       "    </tr>\n",
       "    <tr>\n",
       "      <th>yrs_married</th>\n",
       "      <td>-0.128978</td>\n",
       "      <td>0.894082</td>\n",
       "      <td>1.000000</td>\n",
       "      <td>0.772806</td>\n",
       "      <td>0.132683</td>\n",
       "      <td>-0.109058</td>\n",
       "      <td>0.041782</td>\n",
       "      <td>0.128135</td>\n",
       "      <td>-0.087737</td>\n",
       "      <td>0.203109</td>\n",
       "    </tr>\n",
       "    <tr>\n",
       "      <th>children</th>\n",
       "      <td>-0.129161</td>\n",
       "      <td>0.673902</td>\n",
       "      <td>0.772806</td>\n",
       "      <td>1.000000</td>\n",
       "      <td>0.141845</td>\n",
       "      <td>-0.141918</td>\n",
       "      <td>-0.015068</td>\n",
       "      <td>0.086660</td>\n",
       "      <td>-0.070278</td>\n",
       "      <td>0.159833</td>\n",
       "    </tr>\n",
       "    <tr>\n",
       "      <th>religious</th>\n",
       "      <td>0.078794</td>\n",
       "      <td>0.136598</td>\n",
       "      <td>0.132683</td>\n",
       "      <td>0.141845</td>\n",
       "      <td>1.000000</td>\n",
       "      <td>0.032245</td>\n",
       "      <td>0.035746</td>\n",
       "      <td>0.004061</td>\n",
       "      <td>-0.125933</td>\n",
       "      <td>-0.129299</td>\n",
       "    </tr>\n",
       "    <tr>\n",
       "      <th>educ</th>\n",
       "      <td>0.079869</td>\n",
       "      <td>0.027960</td>\n",
       "      <td>-0.109058</td>\n",
       "      <td>-0.141918</td>\n",
       "      <td>0.032245</td>\n",
       "      <td>1.000000</td>\n",
       "      <td>0.382286</td>\n",
       "      <td>0.183932</td>\n",
       "      <td>-0.017740</td>\n",
       "      <td>-0.075280</td>\n",
       "    </tr>\n",
       "    <tr>\n",
       "      <th>occupation</th>\n",
       "      <td>0.039528</td>\n",
       "      <td>0.106127</td>\n",
       "      <td>0.041782</td>\n",
       "      <td>-0.015068</td>\n",
       "      <td>0.035746</td>\n",
       "      <td>0.382286</td>\n",
       "      <td>1.000000</td>\n",
       "      <td>0.201156</td>\n",
       "      <td>0.004469</td>\n",
       "      <td>0.028981</td>\n",
       "    </tr>\n",
       "    <tr>\n",
       "      <th>occupation_husb</th>\n",
       "      <td>0.027745</td>\n",
       "      <td>0.162567</td>\n",
       "      <td>0.128135</td>\n",
       "      <td>0.086660</td>\n",
       "      <td>0.004061</td>\n",
       "      <td>0.183932</td>\n",
       "      <td>0.201156</td>\n",
       "      <td>1.000000</td>\n",
       "      <td>-0.015614</td>\n",
       "      <td>0.017637</td>\n",
       "    </tr>\n",
       "    <tr>\n",
       "      <th>affairs</th>\n",
       "      <td>-0.178068</td>\n",
       "      <td>-0.089964</td>\n",
       "      <td>-0.087737</td>\n",
       "      <td>-0.070278</td>\n",
       "      <td>-0.125933</td>\n",
       "      <td>-0.017740</td>\n",
       "      <td>0.004469</td>\n",
       "      <td>-0.015614</td>\n",
       "      <td>1.000000</td>\n",
       "      <td>0.464046</td>\n",
       "    </tr>\n",
       "    <tr>\n",
       "      <th>affair_binary</th>\n",
       "      <td>-0.331776</td>\n",
       "      <td>0.146519</td>\n",
       "      <td>0.203109</td>\n",
       "      <td>0.159833</td>\n",
       "      <td>-0.129299</td>\n",
       "      <td>-0.075280</td>\n",
       "      <td>0.028981</td>\n",
       "      <td>0.017637</td>\n",
       "      <td>0.464046</td>\n",
       "      <td>1.000000</td>\n",
       "    </tr>\n",
       "  </tbody>\n",
       "</table>\n",
       "</div>"
      ],
      "text/plain": [
       "                 rate_marriage       age  yrs_married  children  religious  \\\n",
       "rate_marriage         1.000000 -0.111127    -0.128978 -0.129161   0.078794   \n",
       "age                  -0.111127  1.000000     0.894082  0.673902   0.136598   \n",
       "yrs_married          -0.128978  0.894082     1.000000  0.772806   0.132683   \n",
       "children             -0.129161  0.673902     0.772806  1.000000   0.141845   \n",
       "religious             0.078794  0.136598     0.132683  0.141845   1.000000   \n",
       "educ                  0.079869  0.027960    -0.109058 -0.141918   0.032245   \n",
       "occupation            0.039528  0.106127     0.041782 -0.015068   0.035746   \n",
       "occupation_husb       0.027745  0.162567     0.128135  0.086660   0.004061   \n",
       "affairs              -0.178068 -0.089964    -0.087737 -0.070278  -0.125933   \n",
       "affair_binary        -0.331776  0.146519     0.203109  0.159833  -0.129299   \n",
       "\n",
       "                     educ  occupation  occupation_husb   affairs  \\\n",
       "rate_marriage    0.079869    0.039528         0.027745 -0.178068   \n",
       "age              0.027960    0.106127         0.162567 -0.089964   \n",
       "yrs_married     -0.109058    0.041782         0.128135 -0.087737   \n",
       "children        -0.141918   -0.015068         0.086660 -0.070278   \n",
       "religious        0.032245    0.035746         0.004061 -0.125933   \n",
       "educ             1.000000    0.382286         0.183932 -0.017740   \n",
       "occupation       0.382286    1.000000         0.201156  0.004469   \n",
       "occupation_husb  0.183932    0.201156         1.000000 -0.015614   \n",
       "affairs         -0.017740    0.004469        -0.015614  1.000000   \n",
       "affair_binary   -0.075280    0.028981         0.017637  0.464046   \n",
       "\n",
       "                 affair_binary  \n",
       "rate_marriage        -0.331776  \n",
       "age                   0.146519  \n",
       "yrs_married           0.203109  \n",
       "children              0.159833  \n",
       "religious            -0.129299  \n",
       "educ                 -0.075280  \n",
       "occupation            0.028981  \n",
       "occupation_husb       0.017637  \n",
       "affairs               0.464046  \n",
       "affair_binary         1.000000  "
      ]
     },
     "execution_count": 78,
     "metadata": {},
     "output_type": "execute_result"
    }
   ],
   "source": [
    "# find linear correlations between variables and affair_binary \n",
    "affairs_df.corr() "
   ]
  },
  {
   "cell_type": "code",
   "execution_count": 79,
   "metadata": {},
   "outputs": [
    {
     "data": {
      "text/plain": [
       "<matplotlib.axes._subplots.AxesSubplot at 0x1c7b08059b0>"
      ]
     },
     "execution_count": 79,
     "metadata": {},
     "output_type": "execute_result"
    },
    {
     "data": {
      "image/png": "[encoded data removed]",
      "text/plain": [
       "<Figure size 432x288 with 2 Axes>"
      ]
     },
     "metadata": {
      "needs_background": "light"
     },
     "output_type": "display_data"
    }
   ],
   "source": [
    "import seaborn as sns \n",
    "sns.heatmap(affairs_df.corr()) "
   ]
  },
  {
   "cell_type": "code",
   "execution_count": 81,
   "metadata": {},
   "outputs": [],
   "source": [
    "affairs_X = affairs_df.drop(['affairs', 'affair_binary'], axis=1)  \n",
    "# data without the affairs or affair_binary column \n",
    " \n",
    "affairs_y = affairs_df['affair_binary'] "
   ]
  },
  {
   "cell_type": "code",
   "execution_count": 83,
   "metadata": {},
   "outputs": [
    {
     "name": "stdout",
     "output_type": "stream",
     "text": [
      "0.6594413556515053 average accuracy\n",
      "0.020721711520752133 standard deviation\n"
     ]
    }
   ],
   "source": [
    "from sklearn.tree import DecisionTreeClassifier\n",
    "model = DecisionTreeClassifier()  \n",
    "# instantiate the model \n",
    " \n",
    "from sklearn.cross_validation import cross_val_score \n",
    "# import our cross validation module \n",
    " \n",
    "# check the accuracy on the training set \n",
    "scores = cross_val_score(model, affairs_X, affairs_y, cv=10) \n",
    " \n",
    "print( scores.mean(), \"average accuracy\" )\n",
    "#0.659756806845 average accuracy \n",
    " \n",
    " \n",
    "print( scores.std(), \"standard deviation\") # very low, meaning variance of the model is low \n",
    "#0.0204081732291 standard deviation \n",
    " \n",
    "# Looks ok on the cross validation side "
   ]
  },
  {
   "cell_type": "code",
   "execution_count": 84,
   "metadata": {},
   "outputs": [
    {
     "data": {
      "text/html": [
       "<div>\n",
       "<style scoped>\n",
       "    .dataframe tbody tr th:only-of-type {\n",
       "        vertical-align: middle;\n",
       "    }\n",
       "\n",
       "    .dataframe tbody tr th {\n",
       "        vertical-align: top;\n",
       "    }\n",
       "\n",
       "    .dataframe thead th {\n",
       "        text-align: right;\n",
       "    }\n",
       "</style>\n",
       "<table border=\"1\" class=\"dataframe\">\n",
       "  <thead>\n",
       "    <tr style=\"text-align: right;\">\n",
       "      <th></th>\n",
       "      <th>feature</th>\n",
       "      <th>importance</th>\n",
       "    </tr>\n",
       "  </thead>\n",
       "  <tbody>\n",
       "    <tr>\n",
       "      <th>2</th>\n",
       "      <td>yrs_married</td>\n",
       "      <td>0.137386</td>\n",
       "    </tr>\n",
       "    <tr>\n",
       "      <th>0</th>\n",
       "      <td>rate_marriage</td>\n",
       "      <td>0.140575</td>\n",
       "    </tr>\n",
       "    <tr>\n",
       "      <th>7</th>\n",
       "      <td>occupation_husb</td>\n",
       "      <td>0.176033</td>\n",
       "    </tr>\n",
       "  </tbody>\n",
       "</table>\n",
       "</div>"
      ],
      "text/plain": [
       "           feature  importance\n",
       "2      yrs_married    0.137386\n",
       "0    rate_marriage    0.140575\n",
       "7  occupation_husb    0.176033"
      ]
     },
     "execution_count": 84,
     "metadata": {},
     "output_type": "execute_result"
    }
   ],
   "source": [
    "# Explore individual features that make the biggest impact \n",
    "# rate_marriage, yrs_married, and occupation_husb. But one of these variables doesn't quite make sense right? \n",
    "# Its the occupation variable, because they are nominal, their interpretations \n",
    "model.fit(affairs_X, affairs_y) \n",
    "pd.DataFrame({'feature':affairs_X.columns, 'importance':model.feature_importances_}).sort_values('importance').tail(3) \n",
    " "
   ]
  },
  {
   "cell_type": "code",
   "execution_count": 85,
   "metadata": {},
   "outputs": [
    {
     "data": {
      "text/html": [
       "<div>\n",
       "<style scoped>\n",
       "    .dataframe tbody tr th:only-of-type {\n",
       "        vertical-align: middle;\n",
       "    }\n",
       "\n",
       "    .dataframe tbody tr th {\n",
       "        vertical-align: top;\n",
       "    }\n",
       "\n",
       "    .dataframe thead th {\n",
       "        text-align: right;\n",
       "    }\n",
       "</style>\n",
       "<table border=\"1\" class=\"dataframe\">\n",
       "  <thead>\n",
       "    <tr style=\"text-align: right;\">\n",
       "      <th></th>\n",
       "      <th>rate_marriage</th>\n",
       "      <th>age</th>\n",
       "      <th>yrs_married</th>\n",
       "      <th>children</th>\n",
       "      <th>religious</th>\n",
       "      <th>educ</th>\n",
       "      <th>occupation</th>\n",
       "      <th>occupation_husb</th>\n",
       "      <th>affairs</th>\n",
       "      <th>affair_binary</th>\n",
       "      <th>occ__2.0</th>\n",
       "      <th>occ__3.0</th>\n",
       "      <th>occ__4.0</th>\n",
       "      <th>occ__5.0</th>\n",
       "      <th>occ__6.0</th>\n",
       "    </tr>\n",
       "  </thead>\n",
       "  <tbody>\n",
       "    <tr>\n",
       "      <th>0</th>\n",
       "      <td>3.0</td>\n",
       "      <td>32.0</td>\n",
       "      <td>9.0</td>\n",
       "      <td>3.0</td>\n",
       "      <td>3.0</td>\n",
       "      <td>17.0</td>\n",
       "      <td>2.0</td>\n",
       "      <td>5.0</td>\n",
       "      <td>0.111111</td>\n",
       "      <td>True</td>\n",
       "      <td>1</td>\n",
       "      <td>0</td>\n",
       "      <td>0</td>\n",
       "      <td>0</td>\n",
       "      <td>0</td>\n",
       "    </tr>\n",
       "    <tr>\n",
       "      <th>1</th>\n",
       "      <td>3.0</td>\n",
       "      <td>27.0</td>\n",
       "      <td>13.0</td>\n",
       "      <td>3.0</td>\n",
       "      <td>1.0</td>\n",
       "      <td>14.0</td>\n",
       "      <td>3.0</td>\n",
       "      <td>4.0</td>\n",
       "      <td>3.230769</td>\n",
       "      <td>True</td>\n",
       "      <td>0</td>\n",
       "      <td>1</td>\n",
       "      <td>0</td>\n",
       "      <td>0</td>\n",
       "      <td>0</td>\n",
       "    </tr>\n",
       "    <tr>\n",
       "      <th>2</th>\n",
       "      <td>4.0</td>\n",
       "      <td>22.0</td>\n",
       "      <td>2.5</td>\n",
       "      <td>0.0</td>\n",
       "      <td>1.0</td>\n",
       "      <td>16.0</td>\n",
       "      <td>3.0</td>\n",
       "      <td>5.0</td>\n",
       "      <td>1.400000</td>\n",
       "      <td>True</td>\n",
       "      <td>0</td>\n",
       "      <td>1</td>\n",
       "      <td>0</td>\n",
       "      <td>0</td>\n",
       "      <td>0</td>\n",
       "    </tr>\n",
       "    <tr>\n",
       "      <th>3</th>\n",
       "      <td>4.0</td>\n",
       "      <td>37.0</td>\n",
       "      <td>16.5</td>\n",
       "      <td>4.0</td>\n",
       "      <td>3.0</td>\n",
       "      <td>16.0</td>\n",
       "      <td>5.0</td>\n",
       "      <td>5.0</td>\n",
       "      <td>0.727273</td>\n",
       "      <td>True</td>\n",
       "      <td>0</td>\n",
       "      <td>0</td>\n",
       "      <td>0</td>\n",
       "      <td>1</td>\n",
       "      <td>0</td>\n",
       "    </tr>\n",
       "    <tr>\n",
       "      <th>4</th>\n",
       "      <td>5.0</td>\n",
       "      <td>27.0</td>\n",
       "      <td>9.0</td>\n",
       "      <td>1.0</td>\n",
       "      <td>1.0</td>\n",
       "      <td>14.0</td>\n",
       "      <td>3.0</td>\n",
       "      <td>4.0</td>\n",
       "      <td>4.666666</td>\n",
       "      <td>True</td>\n",
       "      <td>0</td>\n",
       "      <td>1</td>\n",
       "      <td>0</td>\n",
       "      <td>0</td>\n",
       "      <td>0</td>\n",
       "    </tr>\n",
       "  </tbody>\n",
       "</table>\n",
       "</div>"
      ],
      "text/plain": [
       "   rate_marriage   age  yrs_married  children  religious  educ  occupation  \\\n",
       "0            3.0  32.0          9.0       3.0        3.0  17.0         2.0   \n",
       "1            3.0  27.0         13.0       3.0        1.0  14.0         3.0   \n",
       "2            4.0  22.0          2.5       0.0        1.0  16.0         3.0   \n",
       "3            4.0  37.0         16.5       4.0        3.0  16.0         5.0   \n",
       "4            5.0  27.0          9.0       1.0        1.0  14.0         3.0   \n",
       "\n",
       "   occupation_husb   affairs  affair_binary  occ__2.0  occ__3.0  occ__4.0  \\\n",
       "0              5.0  0.111111           True         1         0         0   \n",
       "1              4.0  3.230769           True         0         1         0   \n",
       "2              5.0  1.400000           True         0         1         0   \n",
       "3              5.0  0.727273           True         0         0         0   \n",
       "4              4.0  4.666666           True         0         1         0   \n",
       "\n",
       "   occ__5.0  occ__6.0  \n",
       "0         0         0  \n",
       "1         0         0  \n",
       "2         0         0  \n",
       "3         1         0  \n",
       "4         0         0  "
      ]
     },
     "execution_count": 85,
     "metadata": {},
     "output_type": "execute_result"
    }
   ],
   "source": [
    "# Dummy Variables: \n",
    " \n",
    "# Encoding qualitiative (nominal) data using separate columns (see slides for linear regression for more) \n",
    " \n",
    "occuptation_dummies = pd.get_dummies(affairs_df['occupation'], prefix='occ_').iloc[:, 1:] \n",
    " \n",
    "# concatenate the dummy variable columns onto the original DataFrame (axis=0 means rows, axis=1 means columns) \n",
    "affairs_df = pd.concat([affairs_df, occuptation_dummies], axis=1) \n",
    "affairs_df.head() "
   ]
  },
  {
   "cell_type": "code",
   "execution_count": 86,
   "metadata": {},
   "outputs": [
    {
     "data": {
      "text/plain": [
       "(6366, 15)"
      ]
     },
     "execution_count": 86,
     "metadata": {},
     "output_type": "execute_result"
    }
   ],
   "source": [
    "# Now for the husband's job \n",
    " \n",
    "occuptation_dummies = pd.get_dummies(affairs_df['occupation_husb'], prefix='occ_husb_').iloc[:, 1:] \n",
    " \n",
    "# concatenate the dummy variable columns onto the original DataFrame (axis=0 means rows, axis=1 means columns) \n",
    "affairs_df = pd.concat([affairs_df, occuptation_dummies], axis=1) \n",
    "affairs_df.head() \n",
    " \n",
    "(6366, 15) "
   ]
  },
  {
   "cell_type": "code",
   "execution_count": 87,
   "metadata": {},
   "outputs": [
    {
     "name": "stdout",
     "output_type": "stream",
     "text": [
      "0.020721711520752133 standard deviation\n"
     ]
    },
    {
     "data": {
      "text/html": [
       "<div>\n",
       "<style scoped>\n",
       "    .dataframe tbody tr th:only-of-type {\n",
       "        vertical-align: middle;\n",
       "    }\n",
       "\n",
       "    .dataframe tbody tr th {\n",
       "        vertical-align: top;\n",
       "    }\n",
       "\n",
       "    .dataframe thead th {\n",
       "        text-align: right;\n",
       "    }\n",
       "</style>\n",
       "<table border=\"1\" class=\"dataframe\">\n",
       "  <thead>\n",
       "    <tr style=\"text-align: right;\">\n",
       "      <th></th>\n",
       "      <th>feature</th>\n",
       "      <th>importance</th>\n",
       "    </tr>\n",
       "  </thead>\n",
       "  <tbody>\n",
       "    <tr>\n",
       "      <th>4</th>\n",
       "      <td>religious</td>\n",
       "      <td>0.088860</td>\n",
       "    </tr>\n",
       "    <tr>\n",
       "      <th>6</th>\n",
       "      <td>occupation</td>\n",
       "      <td>0.095584</td>\n",
       "    </tr>\n",
       "    <tr>\n",
       "      <th>1</th>\n",
       "      <td>age</td>\n",
       "      <td>0.110174</td>\n",
       "    </tr>\n",
       "    <tr>\n",
       "      <th>5</th>\n",
       "      <td>educ</td>\n",
       "      <td>0.121620</td>\n",
       "    </tr>\n",
       "    <tr>\n",
       "      <th>3</th>\n",
       "      <td>children</td>\n",
       "      <td>0.129768</td>\n",
       "    </tr>\n",
       "    <tr>\n",
       "      <th>2</th>\n",
       "      <td>yrs_married</td>\n",
       "      <td>0.137386</td>\n",
       "    </tr>\n",
       "    <tr>\n",
       "      <th>0</th>\n",
       "      <td>rate_marriage</td>\n",
       "      <td>0.140575</td>\n",
       "    </tr>\n",
       "    <tr>\n",
       "      <th>7</th>\n",
       "      <td>occupation_husb</td>\n",
       "      <td>0.176033</td>\n",
       "    </tr>\n",
       "  </tbody>\n",
       "</table>\n",
       "</div>"
      ],
      "text/plain": [
       "           feature  importance\n",
       "4        religious    0.088860\n",
       "6       occupation    0.095584\n",
       "1              age    0.110174\n",
       "5             educ    0.121620\n",
       "3         children    0.129768\n",
       "2      yrs_married    0.137386\n",
       "0    rate_marriage    0.140575\n",
       "7  occupation_husb    0.176033"
      ]
     },
     "execution_count": 87,
     "metadata": {},
     "output_type": "execute_result"
    }
   ],
   "source": [
    "# remove appropiate columns for feature set affairs_X = affairs_df.drop(['affairs', 'affair_binary', 'occupation', 'occupation_husb'], axis=1) affairs_y = affairs_df['affair_binary'] model = DecisionTreeClassifier() from sklearn.cross_validation import cross_val_score # check the accuracy on the training set scores = cross_val_score(model, affairs_X, affairs_y, cv=10) print scores.mean(), \"average accuracy\" \n",
    "\n",
    "print (scores.std(), \"standard deviation\") # very low, meaning variance of the model is low # Still looks ok # Explore individual features that make the biggest impact model.fit(affairs_X, affairs_y) \n",
    "\n",
    "pd.DataFrame({'feature':affairs_X.columns, 'importance':model.feature_importances_}).sort_values('importance').tail(10) \n"
   ]
  },
  {
   "cell_type": "code",
   "execution_count": null,
   "metadata": {},
   "outputs": [],
   "source": [
    "-------TensorFlow-------"
   ]
  },
  {
   "cell_type": "code",
   "execution_count": 1,
   "metadata": {
    "colab": {
     "base_uri": "https://localhost:8080/",
     "height": 70
    },
    "colab_type": "code",
    "executionInfo": {
     "elapsed": 2377,
     "status": "ok",
     "timestamp": 1540758085262,
     "user": {
      "displayName": "Sunil Kakade",
      "photoUrl": "",
      "userId": "03027695637819877466"
     },
     "user_tz": 420
    },
    "id": "AX1GHQ-0Vmz_",
    "outputId": "2236cad4-66dc-48d0-d1c4-287af0919f98"
   },
   "outputs": [
    {
     "name": "stderr",
     "output_type": "stream",
     "text": [
      "/usr/local/lib/python3.6/dist-packages/sklearn/cross_validation.py:41: DeprecationWarning: This module was deprecated in version 0.18 in favor of the model_selection module into which all the refactored classes and functions are moved. Also note that the interface of the new CV iterators are different from that of this module. This module will be removed in 0.20.\n",
      "  \"This module will be removed in 0.20.\", DeprecationWarning)\n"
     ]
    }
   ],
   "source": [
    "from sklearn import datasets, metrics \n",
    "import tensorflow as tf \n",
    "import numpy as np \n",
    "from sklearn.cross_validation import train_test_split \n",
    "%matplotlib inline "
   ]
  },
  {
   "cell_type": "code",
   "execution_count": 2,
   "metadata": {
    "colab": {
     "base_uri": "https://localhost:8080/",
     "height": 1347
    },
    "colab_type": "code",
    "executionInfo": {
     "elapsed": 11486,
     "status": "ok",
     "timestamp": 1540758151116,
     "user": {
      "displayName": "Sunil Kakade",
      "photoUrl": "",
      "userId": "03027695637819877466"
     },
     "user_tz": 420
    },
    "id": "Codo9ByxVzse",
    "outputId": "7091113f-ff97-4081-a48d-af5f99c0a60a"
   },
   "outputs": [
    {
     "name": "stdout",
     "output_type": "stream",
     "text": [
      "WARNING:tensorflow:From /usr/local/lib/python3.6/dist-packages/tensorflow/contrib/learn/python/learn/estimators/linear.py:469: multi_class_head (from tensorflow.contrib.learn.python.learn.estimators.head) is deprecated and will be removed in a future version.\n",
      "Instructions for updating:\n",
      "Please switch to tf.contrib.estimator.*_head.\n",
      "WARNING:tensorflow:From /usr/local/lib/python3.6/dist-packages/tensorflow/contrib/learn/python/learn/estimators/estimator.py:1180: BaseEstimator.__init__ (from tensorflow.contrib.learn.python.learn.estimators.estimator) is deprecated and will be removed in a future version.\n",
      "Instructions for updating:\n",
      "Please replace uses of any Estimator from tf.contrib.learn with an Estimator from tf.estimator.*\n",
      "WARNING:tensorflow:From /usr/local/lib/python3.6/dist-packages/tensorflow/contrib/learn/python/learn/estimators/estimator.py:428: RunConfig.__init__ (from tensorflow.contrib.learn.python.learn.estimators.run_config) is deprecated and will be removed in a future version.\n",
      "Instructions for updating:\n",
      "When switching to tf.estimator.Estimator, use tf.estimator.RunConfig instead.\n",
      "INFO:tensorflow:Using default config.\n",
      "WARNING:tensorflow:Using temporary folder as model directory: /tmp/tmpiwr2tuww\n",
      "INFO:tensorflow:Using config: {'_task_type': None, '_task_id': 0, '_cluster_spec': <tensorflow.python.training.server_lib.ClusterSpec object at 0x7fc6ecab4f98>, '_master': '', '_num_ps_replicas': 0, '_num_worker_replicas': 0, '_environment': 'local', '_is_chief': True, '_evaluation_master': '', '_train_distribute': None, '_eval_distribute': None, '_device_fn': None, '_tf_config': gpu_options {\n",
      "  per_process_gpu_memory_fraction: 1.0\n",
      "}\n",
      ", '_tf_random_seed': None, '_save_summary_steps': 100, '_save_checkpoints_secs': 600, '_log_step_count_steps': 100, '_protocol': None, '_session_config': None, '_save_checkpoints_steps': None, '_keep_checkpoint_max': 5, '_keep_checkpoint_every_n_hours': 10000, '_model_dir': '/tmp/tmpiwr2tuww'}\n",
      "WARNING:tensorflow:From <ipython-input-2-9a1e19241c31>:30: calling BaseEstimator.fit (from tensorflow.contrib.learn.python.learn.estimators.estimator) with x is deprecated and will be removed after 2016-12-01.\n",
      "Instructions for updating:\n",
      "Estimator is decoupled from Scikit Learn interface by moving into\n",
      "separate class SKCompat. Arguments x, y and batch_size are only\n",
      "available in the SKCompat class, Estimator will only accept input_fn.\n",
      "Example conversion:\n",
      "  est = Estimator(...) -> est = SKCompat(Estimator(...))\n",
      "WARNING:tensorflow:From <ipython-input-2-9a1e19241c31>:30: calling BaseEstimator.fit (from tensorflow.contrib.learn.python.learn.estimators.estimator) with y is deprecated and will be removed after 2016-12-01.\n",
      "Instructions for updating:\n",
      "Estimator is decoupled from Scikit Learn interface by moving into\n",
      "separate class SKCompat. Arguments x, y and batch_size are only\n",
      "available in the SKCompat class, Estimator will only accept input_fn.\n",
      "Example conversion:\n",
      "  est = Estimator(...) -> est = SKCompat(Estimator(...))\n",
      "WARNING:tensorflow:From /usr/local/lib/python3.6/dist-packages/tensorflow/contrib/learn/python/learn/estimators/estimator.py:509: SKCompat.__init__ (from tensorflow.contrib.learn.python.learn.estimators.estimator) is deprecated and will be removed in a future version.\n",
      "Instructions for updating:\n",
      "Please switch to the Estimator interface.\n",
      "WARNING:tensorflow:From /usr/local/lib/python3.6/dist-packages/tensorflow/contrib/learn/python/learn/estimators/estimator.py:143: setup_train_data_feeder (from tensorflow.contrib.learn.python.learn.learn_io.data_feeder) is deprecated and will be removed in a future version.\n",
      "Instructions for updating:\n",
      "Please use tensorflow/transform or tf.data.\n",
      "WARNING:tensorflow:From /usr/local/lib/python3.6/dist-packages/tensorflow/contrib/learn/python/learn/learn_io/data_feeder.py:100: extract_pandas_data (from tensorflow.contrib.learn.python.learn.learn_io.pandas_io) is deprecated and will be removed in a future version.\n",
      "Instructions for updating:\n",
      "Please access pandas data directly.\n",
      "WARNING:tensorflow:From /usr/local/lib/python3.6/dist-packages/tensorflow/contrib/learn/python/learn/learn_io/data_feeder.py:102: extract_pandas_labels (from tensorflow.contrib.learn.python.learn.learn_io.pandas_io) is deprecated and will be removed in a future version.\n",
      "Instructions for updating:\n",
      "Please access pandas data directly.\n",
      "WARNING:tensorflow:From /usr/local/lib/python3.6/dist-packages/tensorflow/contrib/learn/python/learn/learn_io/data_feeder.py:159: DataFeeder.__init__ (from tensorflow.contrib.learn.python.learn.learn_io.data_feeder) is deprecated and will be removed in a future version.\n",
      "Instructions for updating:\n",
      "Please use tensorflow/transform or tf.data.\n",
      "WARNING:tensorflow:From /usr/local/lib/python3.6/dist-packages/tensorflow/contrib/learn/python/learn/learn_io/data_feeder.py:340: check_array (from tensorflow.contrib.learn.python.learn.learn_io.data_feeder) is deprecated and will be removed in a future version.\n",
      "Instructions for updating:\n",
      "Please convert numpy dtypes explicitly.\n",
      "WARNING:tensorflow:float64 is not supported by many models, consider casting to float32.\n",
      "WARNING:tensorflow:From /usr/local/lib/python3.6/dist-packages/tensorflow/contrib/learn/python/learn/estimators/head.py:678: ModelFnOps.__new__ (from tensorflow.contrib.learn.python.learn.estimators.model_fn) is deprecated and will be removed in a future version.\n",
      "Instructions for updating:\n",
      "When switching to tf.estimator.Estimator, use tf.estimator.EstimatorSpec. You can use the `estimator_spec` method to create an equivalent one.\n",
      "INFO:tensorflow:Create CheckpointSaverHook.\n",
      "INFO:tensorflow:Graph was finalized.\n",
      "INFO:tensorflow:Running local_init_op.\n",
      "INFO:tensorflow:Done running local_init_op.\n",
      "INFO:tensorflow:Saving checkpoints for 0 into /tmp/tmpiwr2tuww/model.ckpt.\n",
      "INFO:tensorflow:loss = 1.0986121, step = 1\n",
      "INFO:tensorflow:global_step/sec: 799.965\n",
      "INFO:tensorflow:loss = 0.44005403, step = 101 (0.127 sec)\n",
      "INFO:tensorflow:global_step/sec: 877.229\n",
      "INFO:tensorflow:loss = 0.25771084, step = 201 (0.114 sec)\n",
      "INFO:tensorflow:global_step/sec: 863.475\n",
      "INFO:tensorflow:loss = 0.21438387, step = 301 (0.119 sec)\n",
      "INFO:tensorflow:global_step/sec: 862.511\n",
      "INFO:tensorflow:loss = 0.1870184, step = 401 (0.114 sec)\n",
      "INFO:tensorflow:global_step/sec: 714.594\n",
      "INFO:tensorflow:loss = 0.16793492, step = 501 (0.138 sec)\n",
      "INFO:tensorflow:global_step/sec: 821.832\n",
      "INFO:tensorflow:loss = 0.15381034, step = 601 (0.122 sec)\n",
      "INFO:tensorflow:global_step/sec: 868.26\n",
      "INFO:tensorflow:loss = 0.14289539, step = 701 (0.115 sec)\n",
      "INFO:tensorflow:global_step/sec: 856.846\n",
      "INFO:tensorflow:loss = 0.13418083, step = 801 (0.116 sec)\n",
      "INFO:tensorflow:global_step/sec: 884.206\n",
      "INFO:tensorflow:loss = 0.12704325, step = 901 (0.113 sec)\n",
      "INFO:tensorflow:Saving checkpoints for 1000 into /tmp/tmpiwr2tuww/model.ckpt.\n",
      "INFO:tensorflow:Loss for final step: 0.121131234.\n"
     ]
    },
    {
     "data": {
      "text/plain": [
       "LinearClassifier(params={'head': <tensorflow.contrib.learn.python.learn.estimators.head._MultiClassHead object at 0x7fc6eefb7cf8>, 'feature_columns': [_RealValuedColumn(column_name='', dimension=4, default_value=None, dtype=tf.float32, normalizer=None)], 'optimizer': <tensorflow.python.training.gradient_descent.GradientDescentOptimizer object at 0x7fc6eefb7fd0>, 'gradient_clip_norm': None, 'joint_weights': False})"
      ]
     },
     "execution_count": 2,
     "metadata": {
      "tags": []
     },
     "output_type": "execute_result"
    }
   ],
   "source": [
    "# Our data set of iris flowers \n",
    "iris = datasets.load_iris() \n",
    " \n",
    "# Load datasets and split them for training and testing \n",
    "X_train, X_test, y_train, y_test = train_test_split(iris.data, iris.target) \n",
    " \n",
    " \n",
    "####### TENSORFLOW ####### \n",
    " \n",
    "# Here is tensorflow's syntax for defining features. \n",
    "# We must specify that all features have real-value data \n",
    "feature_columns = [tf.contrib.layers.real_valued_column(\"\", dimension=4)] \n",
    "# notice the dimension is set to four because we have four columns \n",
    " \n",
    "# We set our \"learning rate\" which is a decimal that tells the network  \n",
    "# how quickly to learn \n",
    "optimizer = tf.train.GradientDescentOptimizer(learning_rate=.1) \n",
    "# A learning rate closer to 0 means the network will learn slower \n",
    " \n",
    " \n",
    "# Build a linear classifier (logistic regression) \n",
    "# note we have to tell tensorflow the number of classes we are looking for \n",
    "# which are 3 classes of iris \n",
    "classifier = tf.contrib.learn.LinearClassifier(feature_columns=feature_columns, \n",
    "                                              optimizer=optimizer, \n",
    "                                                      n_classes=3) \n",
    " \n",
    "# Fit model. Uses error optimization techniques like stochastic gradient descent \n",
    "classifier.fit(x=X_train, \n",
    "               y=y_train, \n",
    "               steps=1000)  # number of iterations \n"
   ]
  },
  {
   "cell_type": "code",
   "execution_count": 4,
   "metadata": {
    "colab": {
     "base_uri": "https://localhost:8080/",
     "height": 168
    },
    "colab_type": "code",
    "executionInfo": {
     "elapsed": 837,
     "status": "ok",
     "timestamp": 1540758198732,
     "user": {
      "displayName": "Sunil Kakade",
      "photoUrl": "",
      "userId": "03027695637819877466"
     },
     "user_tz": 420
    },
    "id": "Vhe9wGJKV8QX",
    "outputId": "9b523c92-b242-4436-9913-53af92c8632d"
   },
   "outputs": [
    {
     "name": "stdout",
     "output_type": "stream",
     "text": [
      "WARNING:tensorflow:float64 is not supported by many models, consider casting to float32.\n",
      "INFO:tensorflow:Starting evaluation at 2018-10-28-20:23:18\n",
      "INFO:tensorflow:Graph was finalized.\n",
      "INFO:tensorflow:Restoring parameters from /tmp/tmpiwr2tuww/model.ckpt-1000\n",
      "INFO:tensorflow:Running local_init_op.\n",
      "INFO:tensorflow:Done running local_init_op.\n",
      "INFO:tensorflow:Finished evaluation at 2018-10-28-20:23:18\n",
      "INFO:tensorflow:Saving dict for global step 1000: accuracy = 0.94736844, global_step = 1000, loss = 0.13800518\n",
      "Accuracy: 0.947368\n"
     ]
    }
   ],
   "source": [
    "# Evaluate accuracy. \n",
    "accuracy_score = classifier.evaluate(x=X_test, \n",
    "                                     y=y_test)[\"accuracy\"] \n",
    " \n",
    "print('Accuracy: {0:f}'.format(accuracy_score)) \n"
   ]
  },
  {
   "cell_type": "code",
   "execution_count": 6,
   "metadata": {
    "colab": {
     "base_uri": "https://localhost:8080/",
     "height": 306
    },
    "colab_type": "code",
    "executionInfo": {
     "elapsed": 1020,
     "status": "ok",
     "timestamp": 1540758232545,
     "user": {
      "displayName": "Sunil Kakade",
      "photoUrl": "",
      "userId": "03027695637819877466"
     },
     "user_tz": 420
    },
    "id": "cDD57HNRWHDl",
    "outputId": "4648c304-1d4d-44b7-b294-bbe4ca8a2124"
   },
   "outputs": [
    {
     "name": "stdout",
     "output_type": "stream",
     "text": [
      "WARNING:tensorflow:From /usr/local/lib/python3.6/dist-packages/tensorflow/python/util/deprecation.py:553: calling LinearClassifier.predict (from tensorflow.contrib.learn.python.learn.estimators.linear) with outputs=None is deprecated and will be removed after 2017-03-01.\n",
      "Instructions for updating:\n",
      "Please switch to predict_classes, or set `outputs` argument.\n",
      "WARNING:tensorflow:From /usr/local/lib/python3.6/dist-packages/tensorflow/contrib/learn/python/learn/estimators/linear.py:574: calling BaseEstimator.predict (from tensorflow.contrib.learn.python.learn.estimators.estimator) with x is deprecated and will be removed after 2016-12-01.\n",
      "Instructions for updating:\n",
      "Estimator is decoupled from Scikit Learn interface by moving into\n",
      "separate class SKCompat. Arguments x, y and batch_size are only\n",
      "available in the SKCompat class, Estimator will only accept input_fn.\n",
      "Example conversion:\n",
      "  est = Estimator(...) -> est = SKCompat(Estimator(...))\n",
      "WARNING:tensorflow:float64 is not supported by many models, consider casting to float32.\n",
      "INFO:tensorflow:Graph was finalized.\n",
      "INFO:tensorflow:Restoring parameters from /tmp/tmpiwr2tuww/model.ckpt-1000\n",
      "INFO:tensorflow:Running local_init_op.\n",
      "INFO:tensorflow:Done running local_init_op.\n",
      "Predictions: <generator object _as_iterable at 0x7fc6ebacfaf0>\n"
     ]
    }
   ],
   "source": [
    "# Classify two new flower samples. \n",
    "new_samples = np.array( \n",
    "    [[6.4, 3.2, 4.5, 1.5], [5.8, 3.1, 5.0, 1.7]], dtype=float) \n",
    " \n",
    "y = classifier.predict(new_samples) \n",
    "print('Predictions: {}'.format(str(y))) \n"
   ]
  },
  {
   "cell_type": "code",
   "execution_count": 7,
   "metadata": {
    "colab": {
     "base_uri": "https://localhost:8080/",
     "height": 34
    },
    "colab_type": "code",
    "executionInfo": {
     "elapsed": 638,
     "status": "ok",
     "timestamp": 1540758282286,
     "user": {
      "displayName": "Sunil Kakade",
      "photoUrl": "",
      "userId": "03027695637819877466"
     },
     "user_tz": 420
    },
    "id": "ge98r9stWU1z",
    "outputId": "88f691eb-3e8e-4608-8bdf-360a40d06dcb"
   },
   "outputs": [
    {
     "data": {
      "text/plain": [
       "0.9736842105263158"
      ]
     },
     "execution_count": 7,
     "metadata": {
      "tags": []
     },
     "output_type": "execute_result"
    }
   ],
   "source": [
    "from sklearn.linear_model import LogisticRegression \n",
    "# compare our result above to a simple scikit-learn logistic regression \n",
    " \n",
    "logreg = LogisticRegression() \n",
    "# instantiate the model \n",
    " \n",
    "logreg.fit(X_train, y_train) \n",
    "# fit it to our training set \n",
    " \n",
    "y_predicted = logreg.predict(X_test) \n",
    "# predict on our test set, to avoid overfitting! \n",
    " \n",
    " \n",
    "accuracy = metrics.accuracy_score(y_predicted, y_test) \n",
    "# get our accuracy score \n",
    " \n",
    "accuracy "
   ]
  },
  {
   "cell_type": "code",
   "execution_count": 8,
   "metadata": {
    "colab": {
     "base_uri": "https://localhost:8080/",
     "height": 944
    },
    "colab_type": "code",
    "executionInfo": {
     "elapsed": 3411,
     "status": "ok",
     "timestamp": 1540758329229,
     "user": {
      "displayName": "Sunil Kakade",
      "photoUrl": "",
      "userId": "03027695637819877466"
     },
     "user_tz": 420
    },
    "id": "iAXf9VhKWbCx",
    "outputId": "5de05124-0ad4-45d7-ca67-7f061dfd0961"
   },
   "outputs": [
    {
     "name": "stdout",
     "output_type": "stream",
     "text": [
      "INFO:tensorflow:Using default config.\n",
      "WARNING:tensorflow:Using temporary folder as model directory: /tmp/tmpu650cvpb\n",
      "INFO:tensorflow:Using config: {'_task_type': None, '_task_id': 0, '_cluster_spec': <tensorflow.python.training.server_lib.ClusterSpec object at 0x7fc6e8a620f0>, '_master': '', '_num_ps_replicas': 0, '_num_worker_replicas': 0, '_environment': 'local', '_is_chief': True, '_evaluation_master': '', '_train_distribute': None, '_eval_distribute': None, '_device_fn': None, '_tf_config': gpu_options {\n",
      "  per_process_gpu_memory_fraction: 1.0\n",
      "}\n",
      ", '_tf_random_seed': None, '_save_summary_steps': 100, '_save_checkpoints_secs': 600, '_log_step_count_steps': 100, '_protocol': None, '_session_config': None, '_save_checkpoints_steps': None, '_keep_checkpoint_max': 5, '_keep_checkpoint_every_n_hours': 10000, '_model_dir': '/tmp/tmpu650cvpb'}\n",
      "WARNING:tensorflow:float64 is not supported by many models, consider casting to float32.\n",
      "INFO:tensorflow:Create CheckpointSaverHook.\n",
      "INFO:tensorflow:Graph was finalized.\n",
      "INFO:tensorflow:Running local_init_op.\n",
      "INFO:tensorflow:Done running local_init_op.\n",
      "INFO:tensorflow:Saving checkpoints for 0 into /tmp/tmpu650cvpb/model.ckpt.\n",
      "INFO:tensorflow:loss = 1.0986121, step = 1\n",
      "INFO:tensorflow:global_step/sec: 799.793\n",
      "INFO:tensorflow:loss = 0.44005403, step = 101 (0.127 sec)\n",
      "INFO:tensorflow:global_step/sec: 855.429\n",
      "INFO:tensorflow:loss = 0.25771084, step = 201 (0.120 sec)\n",
      "INFO:tensorflow:global_step/sec: 840.279\n",
      "INFO:tensorflow:loss = 0.21438387, step = 301 (0.116 sec)\n",
      "INFO:tensorflow:global_step/sec: 869.794\n",
      "INFO:tensorflow:loss = 0.1870184, step = 401 (0.117 sec)\n",
      "INFO:tensorflow:global_step/sec: 854.028\n",
      "INFO:tensorflow:loss = 0.16793492, step = 501 (0.115 sec)\n",
      "INFO:tensorflow:global_step/sec: 870.094\n",
      "INFO:tensorflow:loss = 0.15381034, step = 601 (0.119 sec)\n",
      "INFO:tensorflow:global_step/sec: 852.776\n",
      "INFO:tensorflow:loss = 0.14289539, step = 701 (0.116 sec)\n",
      "INFO:tensorflow:global_step/sec: 858.442\n",
      "INFO:tensorflow:loss = 0.13418083, step = 801 (0.115 sec)\n",
      "INFO:tensorflow:global_step/sec: 874.949\n",
      "INFO:tensorflow:loss = 0.12704325, step = 901 (0.113 sec)\n",
      "INFO:tensorflow:global_step/sec: 877.293\n",
      "INFO:tensorflow:loss = 0.12107637, step = 1001 (0.114 sec)\n",
      "INFO:tensorflow:global_step/sec: 839.786\n",
      "INFO:tensorflow:loss = 0.11600395, step = 1101 (0.122 sec)\n",
      "INFO:tensorflow:global_step/sec: 849.416\n",
      "INFO:tensorflow:loss = 0.111631334, step = 1201 (0.115 sec)\n",
      "INFO:tensorflow:global_step/sec: 872.198\n",
      "INFO:tensorflow:loss = 0.107817225, step = 1301 (0.119 sec)\n",
      "INFO:tensorflow:global_step/sec: 845.994\n",
      "INFO:tensorflow:loss = 0.104456596, step = 1401 (0.114 sec)\n",
      "INFO:tensorflow:global_step/sec: 860.128\n",
      "INFO:tensorflow:loss = 0.101469524, step = 1501 (0.120 sec)\n",
      "INFO:tensorflow:global_step/sec: 846.662\n",
      "INFO:tensorflow:loss = 0.098794155, step = 1601 (0.123 sec)\n",
      "INFO:tensorflow:global_step/sec: 815.538\n",
      "INFO:tensorflow:loss = 0.096381865, step = 1701 (0.115 sec)\n",
      "INFO:tensorflow:global_step/sec: 887.573\n",
      "INFO:tensorflow:loss = 0.09419375, step = 1801 (0.114 sec)\n",
      "INFO:tensorflow:global_step/sec: 861.2\n",
      "INFO:tensorflow:loss = 0.09219844, step = 1901 (0.114 sec)\n",
      "INFO:tensorflow:Saving checkpoints for 2000 into /tmp/tmpu650cvpb/model.ckpt.\n",
      "INFO:tensorflow:Loss for final step: 0.09038765.\n"
     ]
    },
    {
     "data": {
      "text/plain": [
       "LinearClassifier(params={'head': <tensorflow.contrib.learn.python.learn.estimators.head._MultiClassHead object at 0x7fc6e8a4ff60>, 'feature_columns': [_RealValuedColumn(column_name='', dimension=4, default_value=None, dtype=tf.float32, normalizer=None)], 'optimizer': <tensorflow.python.training.gradient_descent.GradientDescentOptimizer object at 0x7fc6e8a4ff28>, 'gradient_clip_norm': None, 'joint_weights': False})"
      ]
     },
     "execution_count": 8,
     "metadata": {
      "tags": []
     },
     "output_type": "execute_result"
    }
   ],
   "source": [
    "feature_columns = [tf.contrib.layers.real_valued_column(\"\", dimension=4)] \n",
    " \n",
    "optimizer = tf.train.GradientDescentOptimizer(learning_rate=.1) \n",
    " \n",
    "classifier = tf.contrib.learn.LinearClassifier(feature_columns=feature_columns, \n",
    "                                               optimizer=optimizer, \n",
    "                                            n_classes=3) \n",
    " \n",
    "classifier.fit(x=X_train, \n",
    "               y=y_train, \n",
    "               steps=2000)"
   ]
  },
  {
   "cell_type": "code",
   "execution_count": 9,
   "metadata": {
    "colab": {
     "base_uri": "https://localhost:8080/",
     "height": 168
    },
    "colab_type": "code",
    "executionInfo": {
     "elapsed": 934,
     "status": "ok",
     "timestamp": 1540758384587,
     "user": {
      "displayName": "Sunil Kakade",
      "photoUrl": "",
      "userId": "03027695637819877466"
     },
     "user_tz": 420
    },
    "id": "AoGphrLKWm72",
    "outputId": "839b6d87-c9b1-4cf6-a942-062eb235b6aa"
   },
   "outputs": [
    {
     "name": "stdout",
     "output_type": "stream",
     "text": [
      "WARNING:tensorflow:float64 is not supported by many models, consider casting to float32.\n",
      "INFO:tensorflow:Starting evaluation at 2018-10-28-20:26:23\n",
      "INFO:tensorflow:Graph was finalized.\n",
      "INFO:tensorflow:Restoring parameters from /tmp/tmpu650cvpb/model.ckpt-2000\n",
      "INFO:tensorflow:Running local_init_op.\n",
      "INFO:tensorflow:Done running local_init_op.\n",
      "INFO:tensorflow:Finished evaluation at 2018-10-28-20:26:24\n",
      "INFO:tensorflow:Saving dict for global step 2000: accuracy = 0.94736844, global_step = 2000, loss = 0.11092094\n",
      "Accuracy: 0.947368\n"
     ]
    }
   ],
   "source": [
    "# Evaluate accuracy. \n",
    "accuracy_score = classifier.evaluate(x=X_test, \n",
    "                                     y=y_test)[\"accuracy\"] \n",
    " \n",
    " \n",
    "print('Accuracy: {0:f}'.format(accuracy_score)) "
   ]
  },
  {
   "cell_type": "code",
   "execution_count": 10,
   "metadata": {
    "colab": {
     "base_uri": "https://localhost:8080/",
     "height": 944
    },
    "colab_type": "code",
    "executionInfo": {
     "elapsed": 4263,
     "status": "ok",
     "timestamp": 1540758432084,
     "user": {
      "displayName": "Sunil Kakade",
      "photoUrl": "",
      "userId": "03027695637819877466"
     },
     "user_tz": 420
    },
    "id": "otbuIlkAW0Ov",
    "outputId": "f604d056-d530-4606-c703-5ccdc347fce3"
   },
   "outputs": [
    {
     "name": "stdout",
     "output_type": "stream",
     "text": [
      "INFO:tensorflow:Using default config.\n",
      "WARNING:tensorflow:Using temporary folder as model directory: /tmp/tmpmotjpnth\n",
      "INFO:tensorflow:Using config: {'_task_type': None, '_task_id': 0, '_cluster_spec': <tensorflow.python.training.server_lib.ClusterSpec object at 0x7fc6e8ff0cf8>, '_master': '', '_num_ps_replicas': 0, '_num_worker_replicas': 0, '_environment': 'local', '_is_chief': True, '_evaluation_master': '', '_train_distribute': None, '_eval_distribute': None, '_device_fn': None, '_tf_config': gpu_options {\n",
      "  per_process_gpu_memory_fraction: 1.0\n",
      "}\n",
      ", '_tf_random_seed': None, '_save_summary_steps': 100, '_save_checkpoints_secs': 600, '_log_step_count_steps': 100, '_protocol': None, '_session_config': None, '_save_checkpoints_steps': None, '_keep_checkpoint_max': 5, '_keep_checkpoint_every_n_hours': 10000, '_model_dir': '/tmp/tmpmotjpnth'}\n",
      "WARNING:tensorflow:float64 is not supported by many models, consider casting to float32.\n",
      "INFO:tensorflow:Create CheckpointSaverHook.\n",
      "INFO:tensorflow:Graph was finalized.\n",
      "INFO:tensorflow:Running local_init_op.\n",
      "INFO:tensorflow:Done running local_init_op.\n",
      "INFO:tensorflow:Saving checkpoints for 0 into /tmp/tmpmotjpnth/model.ckpt.\n",
      "INFO:tensorflow:loss = 1.6374757, step = 1\n",
      "INFO:tensorflow:global_step/sec: 543.922\n",
      "INFO:tensorflow:loss = 0.25408033, step = 101 (0.190 sec)\n",
      "INFO:tensorflow:global_step/sec: 602.006\n",
      "INFO:tensorflow:loss = 0.14649343, step = 201 (0.163 sec)\n",
      "INFO:tensorflow:global_step/sec: 596.788\n",
      "INFO:tensorflow:loss = 0.10024991, step = 301 (0.167 sec)\n",
      "INFO:tensorflow:global_step/sec: 678.149\n",
      "INFO:tensorflow:loss = 0.41596454, step = 401 (0.150 sec)\n",
      "INFO:tensorflow:global_step/sec: 684.362\n",
      "INFO:tensorflow:loss = 0.07406922, step = 501 (0.143 sec)\n",
      "INFO:tensorflow:global_step/sec: 693.013\n",
      "INFO:tensorflow:loss = 0.06697432, step = 601 (0.145 sec)\n",
      "INFO:tensorflow:global_step/sec: 688.586\n",
      "INFO:tensorflow:loss = 0.058947656, step = 701 (0.149 sec)\n",
      "INFO:tensorflow:global_step/sec: 665.526\n",
      "INFO:tensorflow:loss = 0.0658797, step = 801 (0.151 sec)\n",
      "INFO:tensorflow:global_step/sec: 685.371\n",
      "INFO:tensorflow:loss = 0.05801126, step = 901 (0.141 sec)\n",
      "INFO:tensorflow:global_step/sec: 667.265\n",
      "INFO:tensorflow:loss = 0.054405157, step = 1001 (0.149 sec)\n",
      "INFO:tensorflow:global_step/sec: 788.282\n",
      "INFO:tensorflow:loss = 0.051324997, step = 1101 (0.128 sec)\n",
      "INFO:tensorflow:global_step/sec: 793.626\n",
      "INFO:tensorflow:loss = 0.050527077, step = 1201 (0.125 sec)\n",
      "INFO:tensorflow:global_step/sec: 791.938\n",
      "INFO:tensorflow:loss = 0.056856744, step = 1301 (0.126 sec)\n",
      "INFO:tensorflow:global_step/sec: 784.357\n",
      "INFO:tensorflow:loss = 0.055776116, step = 1401 (0.128 sec)\n",
      "INFO:tensorflow:global_step/sec: 795.001\n",
      "INFO:tensorflow:loss = 0.04776133, step = 1501 (0.126 sec)\n",
      "INFO:tensorflow:global_step/sec: 799.363\n",
      "INFO:tensorflow:loss = 0.047900286, step = 1601 (0.126 sec)\n",
      "INFO:tensorflow:global_step/sec: 797.401\n",
      "INFO:tensorflow:loss = 0.04720848, step = 1701 (0.124 sec)\n",
      "INFO:tensorflow:global_step/sec: 802.676\n",
      "INFO:tensorflow:loss = 0.048156828, step = 1801 (0.125 sec)\n",
      "INFO:tensorflow:global_step/sec: 798.314\n",
      "INFO:tensorflow:loss = 0.048117604, step = 1901 (0.125 sec)\n",
      "INFO:tensorflow:Saving checkpoints for 2000 into /tmp/tmpmotjpnth/model.ckpt.\n",
      "INFO:tensorflow:Loss for final step: 0.053269226.\n"
     ]
    },
    {
     "data": {
      "text/plain": [
       "DNNClassifier(params={'head': <tensorflow.contrib.learn.python.learn.estimators.head._MultiClassHead object at 0x7fc6e8ff0a20>, 'hidden_units': [10, 20, 10], 'feature_columns': (_RealValuedColumn(column_name='', dimension=4, default_value=None, dtype=tf.float32, normalizer=None),), 'optimizer': <tensorflow.python.training.gradient_descent.GradientDescentOptimizer object at 0x7fc6e8ff09e8>, 'activation_fn': <function relu at 0x7fc6f457d510>, 'dropout': None, 'gradient_clip_norm': None, 'embedding_lr_multipliers': None, 'input_layer_min_slice_size': None})"
      ]
     },
     "execution_count": 10,
     "metadata": {
      "tags": []
     },
     "output_type": "execute_result"
    }
   ],
   "source": [
    "# Specify that all features have real-value data \n",
    "feature_columns = [tf.contrib.layers.real_valued_column(\"\", dimension=4)] \n",
    " \n",
    "optimizer = tf.train.GradientDescentOptimizer(learning_rate=.1) \n",
    " \n",
    " \n",
    "# Build 3 layer DNN with 10, 20, 10 units respectively. \n",
    "classifier = tf.contrib.learn.DNNClassifier(feature_columns=feature_columns, \n",
    "                                        hidden_units=[10, 20, 10], \n",
    "                                        optimizer=optimizer, \n",
    "                                        n_classes=3) \n",
    " \n",
    "# Fit model. \n",
    "classifier.fit(x=X_train, \n",
    "               y=y_train, \n",
    "               steps=2000) \n"
   ]
  },
  {
   "cell_type": "code",
   "execution_count": 11,
   "metadata": {
    "colab": {
     "base_uri": "https://localhost:8080/",
     "height": 154
    },
    "colab_type": "code",
    "executionInfo": {
     "elapsed": 702,
     "status": "ok",
     "timestamp": 1540758455806,
     "user": {
      "displayName": "Sunil Kakade",
      "photoUrl": "",
      "userId": "03027695637819877466"
     },
     "user_tz": 420
    },
    "id": "KELANZF_XALh",
    "outputId": "8a608939-ff00-41d0-d396-66525df6022b"
   },
   "outputs": [
    {
     "name": "stdout",
     "output_type": "stream",
     "text": [
      "INFO:tensorflow:Using default config.\n",
      "WARNING:tensorflow:Using temporary folder as model directory: /tmp/tmp7n6mu5s4\n",
      "INFO:tensorflow:Using config: {'_task_type': None, '_task_id': 0, '_cluster_spec': <tensorflow.python.training.server_lib.ClusterSpec object at 0x7fc6e8ff0668>, '_master': '', '_num_ps_replicas': 0, '_num_worker_replicas': 0, '_environment': 'local', '_is_chief': True, '_evaluation_master': '', '_train_distribute': None, '_eval_distribute': None, '_device_fn': None, '_tf_config': gpu_options {\n",
      "  per_process_gpu_memory_fraction: 1.0\n",
      "}\n",
      ", '_tf_random_seed': None, '_save_summary_steps': 100, '_save_checkpoints_secs': 600, '_log_step_count_steps': 100, '_protocol': None, '_session_config': None, '_save_checkpoints_steps': None, '_keep_checkpoint_max': 5, '_keep_checkpoint_every_n_hours': 10000, '_model_dir': '/tmp/tmp7n6mu5s4'}\n"
     ]
    },
    {
     "data": {
      "text/plain": [
       "DNNClassifier(params={'head': <tensorflow.contrib.learn.python.learn.estimators.head._MultiClassHead object at 0x7fc6e8a4fdd8>, 'hidden_units': [10, 20, 10], 'feature_columns': (_RealValuedColumn(column_name='', dimension=4, default_value=None, dtype=tf.float32, normalizer=None),), 'optimizer': <tensorflow.python.training.gradient_descent.GradientDescentOptimizer object at 0x7fc6e8ff09e8>, 'activation_fn': <function relu at 0x7fc6f457d510>, 'dropout': None, 'gradient_clip_norm': None, 'embedding_lr_multipliers': None, 'input_layer_min_slice_size': None})"
      ]
     },
     "execution_count": 11,
     "metadata": {
      "tags": []
     },
     "output_type": "execute_result"
    }
   ],
   "source": [
    "tf.contrib.learn.DNNClassifier(feature_columns=feature_columns, \n",
    "                                     hidden_units=[10, 20, 10], \n",
    "                                     optimizer=optimizer, \n",
    "                                     n_classes=3) "
   ]
  },
  {
   "cell_type": "code",
   "execution_count": 12,
   "metadata": {
    "colab": {
     "base_uri": "https://localhost:8080/",
     "height": 474
    },
    "colab_type": "code",
    "executionInfo": {
     "elapsed": 6539,
     "status": "ok",
     "timestamp": 1540758486173,
     "user": {
      "displayName": "Sunil Kakade",
      "photoUrl": "",
      "userId": "03027695637819877466"
     },
     "user_tz": 420
    },
    "id": "VrmLQ0aDXFpj",
    "outputId": "ac857512-2b4f-4eec-9485-a82853c902b3"
   },
   "outputs": [
    {
     "name": "stdout",
     "output_type": "stream",
     "text": [
      "WARNING:tensorflow:From <ipython-input-12-670f9f8b5583>:2: read_data_sets (from tensorflow.contrib.learn.python.learn.datasets.mnist) is deprecated and will be removed in a future version.\n",
      "Instructions for updating:\n",
      "Please use alternatives such as official/mnist/dataset.py from tensorflow/models.\n",
      "WARNING:tensorflow:From /usr/local/lib/python3.6/dist-packages/tensorflow/contrib/learn/python/learn/datasets/mnist.py:260: maybe_download (from tensorflow.contrib.learn.python.learn.datasets.base) is deprecated and will be removed in a future version.\n",
      "Instructions for updating:\n",
      "Please write your own downloading logic.\n",
      "WARNING:tensorflow:From /usr/local/lib/python3.6/dist-packages/tensorflow/contrib/learn/python/learn/datasets/base.py:252: _internal_retry.<locals>.wrap.<locals>.wrapped_fn (from tensorflow.contrib.learn.python.learn.datasets.base) is deprecated and will be removed in a future version.\n",
      "Instructions for updating:\n",
      "Please use urllib or similar directly.\n",
      "Successfully downloaded train-images-idx3-ubyte.gz 9912422 bytes.\n",
      "WARNING:tensorflow:From /usr/local/lib/python3.6/dist-packages/tensorflow/contrib/learn/python/learn/datasets/mnist.py:262: extract_images (from tensorflow.contrib.learn.python.learn.datasets.mnist) is deprecated and will be removed in a future version.\n",
      "Instructions for updating:\n",
      "Please use tf.data to implement this functionality.\n",
      "Extracting MNIST_data/train-images-idx3-ubyte.gz\n",
      "Successfully downloaded train-labels-idx1-ubyte.gz 28881 bytes.\n",
      "WARNING:tensorflow:From /usr/local/lib/python3.6/dist-packages/tensorflow/contrib/learn/python/learn/datasets/mnist.py:267: extract_labels (from tensorflow.contrib.learn.python.learn.datasets.mnist) is deprecated and will be removed in a future version.\n",
      "Instructions for updating:\n",
      "Please use tf.data to implement this functionality.\n",
      "Extracting MNIST_data/train-labels-idx1-ubyte.gz\n",
      "Successfully downloaded t10k-images-idx3-ubyte.gz 1648877 bytes.\n",
      "Extracting MNIST_data/t10k-images-idx3-ubyte.gz\n",
      "Successfully downloaded t10k-labels-idx1-ubyte.gz 4542 bytes.\n",
      "Extracting MNIST_data/t10k-labels-idx1-ubyte.gz\n",
      "WARNING:tensorflow:From /usr/local/lib/python3.6/dist-packages/tensorflow/contrib/learn/python/learn/datasets/mnist.py:290: DataSet.__init__ (from tensorflow.contrib.learn.python.learn.datasets.mnist) is deprecated and will be removed in a future version.\n",
      "Instructions for updating:\n",
      "Please use alternatives such as official/mnist/dataset.py from tensorflow/models.\n"
     ]
    }
   ],
   "source": [
    "from tensorflow.examples.tutorials.mnist import input_data \n",
    "mnist = input_data.read_data_sets(\"MNIST_data/\", one_hot=False) "
   ]
  },
  {
   "cell_type": "code",
   "execution_count": 0,
   "metadata": {
    "colab": {},
    "colab_type": "code",
    "id": "6Ov-IidJXfMn"
   },
   "outputs": [],
   "source": [
    "x_mnist = mnist.train.images \n",
    "y_mnist = mnist.train.labels.astype(int) "
   ]
  },
  {
   "cell_type": "code",
   "execution_count": 14,
   "metadata": {
    "colab": {
     "base_uri": "https://localhost:8080/",
     "height": 282
    },
    "colab_type": "code",
    "executionInfo": {
     "elapsed": 729,
     "status": "ok",
     "timestamp": 1540758599457,
     "user": {
      "displayName": "Sunil Kakade",
      "photoUrl": "",
      "userId": "03027695637819877466"
     },
     "user_tz": 420
    },
    "id": "3pwHVFR_XkIU",
    "outputId": "5e960b67-e91e-4e44-f7c2-87c7108fb637"
   },
   "outputs": [
    {
     "data": {
      "text/plain": [
       "<matplotlib.image.AxesImage at 0x7fc6e7e05710>"
      ]
     },
     "execution_count": 14,
     "metadata": {
      "tags": []
     },
     "output_type": "execute_result"
    },
    {
     "data": {
      "image/png": "[encoded data removed]",
      "text/plain": [
       "<matplotlib.figure.Figure at 0x7fc6e7dadf60>"
      ]
     },
     "metadata": {
      "tags": []
     },
     "output_type": "display_data"
    }
   ],
   "source": [
    "import matplotlib.pyplot as plt \n",
    "plt.imshow(x_mnist[10].reshape(28, 28)) "
   ]
  },
  {
   "cell_type": "code",
   "execution_count": 15,
   "metadata": {
    "colab": {
     "base_uri": "https://localhost:8080/",
     "height": 34
    },
    "colab_type": "code",
    "executionInfo": {
     "elapsed": 701,
     "status": "ok",
     "timestamp": 1540758628773,
     "user": {
      "displayName": "Sunil Kakade",
      "photoUrl": "",
      "userId": "03027695637819877466"
     },
     "user_tz": 420
    },
    "id": "4-jRMtt2Xoom",
    "outputId": "0428961d-fc8b-4cbb-b945-4bc7cdcd3e67"
   },
   "outputs": [
    {
     "data": {
      "text/plain": [
       "0"
      ]
     },
     "execution_count": 15,
     "metadata": {
      "tags": []
     },
     "output_type": "execute_result"
    }
   ],
   "source": [
    "y_mnist[10] "
   ]
  },
  {
   "cell_type": "code",
   "execution_count": 16,
   "metadata": {
    "colab": {
     "base_uri": "https://localhost:8080/",
     "height": 34
    },
    "colab_type": "code",
    "executionInfo": {
     "elapsed": 657,
     "status": "ok",
     "timestamp": 1540758653843,
     "user": {
      "displayName": "Sunil Kakade",
      "photoUrl": "",
      "userId": "03027695637819877466"
     },
     "user_tz": 420
    },
    "id": "CKxlKbo6XvkD",
    "outputId": "5aace699-7387-4ce5-ad2a-2713eaae9429"
   },
   "outputs": [
    {
     "data": {
      "text/plain": [
       "(55000,)"
      ]
     },
     "execution_count": 16,
     "metadata": {
      "tags": []
     },
     "output_type": "execute_result"
    }
   ],
   "source": [
    "x_mnist.shape \n",
    "\n",
    " \n",
    "y_mnist.shape \n"
   ]
  },
  {
   "cell_type": "code",
   "execution_count": 17,
   "metadata": {
    "colab": {
     "base_uri": "https://localhost:8080/",
     "height": 591
    },
    "colab_type": "code",
    "executionInfo": {
     "elapsed": 329916,
     "status": "ok",
     "timestamp": 1540759015683,
     "user": {
      "displayName": "Sunil Kakade",
      "photoUrl": "",
      "userId": "03027695637819877466"
     },
     "user_tz": 420
    },
    "id": "xSWZnouTX1tV",
    "outputId": "6735618e-1130-4ed5-b4ca-991a7d0af5ca"
   },
   "outputs": [
    {
     "name": "stdout",
     "output_type": "stream",
     "text": [
      "INFO:tensorflow:Using default config.\n",
      "WARNING:tensorflow:Using temporary folder as model directory: /tmp/tmp49cjc3yk\n",
      "INFO:tensorflow:Using config: {'_task_type': None, '_task_id': 0, '_cluster_spec': <tensorflow.python.training.server_lib.ClusterSpec object at 0x7fc6e7dad9e8>, '_master': '', '_num_ps_replicas': 0, '_num_worker_replicas': 0, '_environment': 'local', '_is_chief': True, '_evaluation_master': '', '_train_distribute': None, '_eval_distribute': None, '_device_fn': None, '_tf_config': gpu_options {\n",
      "  per_process_gpu_memory_fraction: 1.0\n",
      "}\n",
      ", '_tf_random_seed': None, '_save_summary_steps': 100, '_save_checkpoints_secs': 600, '_log_step_count_steps': 100, '_protocol': None, '_session_config': None, '_save_checkpoints_steps': None, '_keep_checkpoint_max': 5, '_keep_checkpoint_every_n_hours': 10000, '_model_dir': '/tmp/tmp49cjc3yk'}\n",
      "INFO:tensorflow:Create CheckpointSaverHook.\n",
      "INFO:tensorflow:Graph was finalized.\n",
      "INFO:tensorflow:Running local_init_op.\n",
      "INFO:tensorflow:Done running local_init_op.\n",
      "INFO:tensorflow:Saving checkpoints for 0 into /tmp/tmp49cjc3yk/model.ckpt.\n",
      "INFO:tensorflow:loss = 2.3068607, step = 1\n",
      "INFO:tensorflow:global_step/sec: 3.0798\n",
      "INFO:tensorflow:loss = 1.0171626, step = 101 (32.472 sec)\n",
      "INFO:tensorflow:global_step/sec: 3.06786\n",
      "INFO:tensorflow:loss = 0.5375799, step = 201 (32.601 sec)\n",
      "INFO:tensorflow:global_step/sec: 3.04965\n",
      "INFO:tensorflow:loss = 0.42706504, step = 301 (32.786 sec)\n",
      "INFO:tensorflow:global_step/sec: 3.07274\n",
      "INFO:tensorflow:loss = 0.37157714, step = 401 (32.549 sec)\n",
      "INFO:tensorflow:global_step/sec: 3.04286\n",
      "INFO:tensorflow:loss = 0.3392125, step = 501 (32.862 sec)\n",
      "INFO:tensorflow:global_step/sec: 3.0186\n",
      "INFO:tensorflow:loss = 0.31882933, step = 601 (33.125 sec)\n",
      "INFO:tensorflow:global_step/sec: 3.07432\n",
      "INFO:tensorflow:loss = 0.2960667, step = 701 (32.527 sec)\n",
      "INFO:tensorflow:global_step/sec: 3.06725\n",
      "INFO:tensorflow:loss = 0.27978307, step = 801 (32.603 sec)\n",
      "INFO:tensorflow:global_step/sec: 3.08091\n",
      "INFO:tensorflow:loss = 0.27966857, step = 901 (32.457 sec)\n",
      "INFO:tensorflow:Saving checkpoints for 1000 into /tmp/tmp49cjc3yk/model.ckpt.\n",
      "INFO:tensorflow:Loss for final step: 0.25840446.\n"
     ]
    },
    {
     "data": {
      "text/plain": [
       "DNNClassifier(params={'head': <tensorflow.contrib.learn.python.learn.estimators.head._MultiClassHead object at 0x7fc6e7dad940>, 'hidden_units': [10, 20, 10], 'feature_columns': (_RealValuedColumn(column_name='', dimension=784, default_value=None, dtype=tf.float32, normalizer=None),), 'optimizer': <tensorflow.python.training.gradient_descent.GradientDescentOptimizer object at 0x7fc6e7dadfd0>, 'activation_fn': <function relu at 0x7fc6f457d510>, 'dropout': None, 'gradient_clip_norm': None, 'embedding_lr_multipliers': None, 'input_layer_min_slice_size': None})"
      ]
     },
     "execution_count": 17,
     "metadata": {
      "tags": []
     },
     "output_type": "execute_result"
    }
   ],
   "source": [
    "# Specify that all features have real-value data \n",
    "feature_columns = [tf.contrib.layers.real_valued_column(\"\", dimension=784)] \n",
    "optimizer = tf.train.GradientDescentOptimizer(learning_rate=.1) \n",
    " \n",
    " \n",
    "# Build 3 layer DNN with 10, 20, 10 units respectively. \n",
    "classifier = tf.contrib.learn.DNNClassifier(feature_columns=feature_columns, \n",
    "                                     hidden_units=[10, 20, 10], \n",
    "                                           optimizer=optimizer, \n",
    "                                                  n_classes=10) \n",
    " \n",
    "# Fit model. \n",
    "classifier.fit(x=x_mnist, \n",
    "               y=y_mnist, \n",
    "               steps=1000) \n",
    "# Warning this is veryyyyyyyy slow "
   ]
  },
  {
   "cell_type": "code",
   "execution_count": 18,
   "metadata": {
    "colab": {
     "base_uri": "https://localhost:8080/",
     "height": 34
    },
    "colab_type": "code",
    "executionInfo": {
     "elapsed": 683,
     "status": "ok",
     "timestamp": 1540759071679,
     "user": {
      "displayName": "Sunil Kakade",
      "photoUrl": "",
      "userId": "03027695637819877466"
     },
     "user_tz": 420
    },
    "id": "O5Axst3YZVJM",
    "outputId": "7e94a4d0-ba46-41bc-bb62-af2a02f721cc"
   },
   "outputs": [
    {
     "data": {
      "text/plain": [
       "(10000,)"
      ]
     },
     "execution_count": 18,
     "metadata": {
      "tags": []
     },
     "output_type": "execute_result"
    }
   ],
   "source": [
    "x_mnist_test = mnist.test.images \n",
    "y_mnist_test = mnist.test.labels.astype(int) \n",
    " \n",
    "x_mnist_test.shape \n",
    "\n",
    " \n",
    " \n",
    "y_mnist_test.shape \n"
   ]
  },
  {
   "cell_type": "code",
   "execution_count": 20,
   "metadata": {
    "colab": {
     "base_uri": "https://localhost:8080/",
     "height": 151
    },
    "colab_type": "code",
    "executionInfo": {
     "elapsed": 141360,
     "status": "ok",
     "timestamp": 1540759256742,
     "user": {
      "displayName": "Sunil Kakade",
      "photoUrl": "",
      "userId": "03027695637819877466"
     },
     "user_tz": 420
    },
    "id": "fUbQAMs5ZcTL",
    "outputId": "32777063-a32a-4b48-deff-bd70004cd5e2"
   },
   "outputs": [
    {
     "name": "stdout",
     "output_type": "stream",
     "text": [
      "INFO:tensorflow:Starting evaluation at 2018-10-28-20:38:35\n",
      "INFO:tensorflow:Graph was finalized.\n",
      "INFO:tensorflow:Restoring parameters from /tmp/tmp49cjc3yk/model.ckpt-1000\n",
      "INFO:tensorflow:Running local_init_op.\n",
      "INFO:tensorflow:Done running local_init_op.\n",
      "INFO:tensorflow:Finished evaluation at 2018-10-28-20:38:36\n",
      "INFO:tensorflow:Saving dict for global step 1000: accuracy = 0.9225, global_step = 1000, loss = 0.2608437\n",
      "Accuracy: 0.922500\n"
     ]
    }
   ],
   "source": [
    "# Evaluate accuracy. \n",
    "accuracy_score = classifier.evaluate(x=x_mnist_test, \n",
    "                                     y=y_mnist_test)[\"accuracy\"] \n",
    "print('Accuracy: {0:f}'.format(accuracy_score)) \n",
    "logreg = LogisticRegression() \n",
    "logreg.fit(x_mnist, y_mnist) \n",
    "# Warning this is slow \n",
    " \n",
    "y_predicted = logreg.predict(x_mnist_test) \n",
    "from sklearn.metrics import accuracy_score \n",
    "# predict on our test set, to avoid overfitting! \n",
    " \n",
    "accuracy = accuracy_score(y_predicted, y_mnist_test) \n",
    "# get our accuracy score "
   ]
  },
  {
   "cell_type": "code",
   "execution_count": 21,
   "metadata": {
    "colab": {
     "base_uri": "https://localhost:8080/",
     "height": 406
    },
    "colab_type": "code",
    "executionInfo": {
     "elapsed": 605401,
     "status": "ok",
     "timestamp": 1540759931555,
     "user": {
      "displayName": "Sunil Kakade",
      "photoUrl": "",
      "userId": "03027695637819877466"
     },
     "user_tz": 420
    },
    "id": "Dy8R245XZxRr",
    "outputId": "d373edb0-0426-4a3b-f8a9-853316ed8ab4"
   },
   "outputs": [
    {
     "name": "stdout",
     "output_type": "stream",
     "text": [
      "INFO:tensorflow:Using default config.\n",
      "WARNING:tensorflow:Using temporary folder as model directory: /tmp/tmpg_0apoy7\n",
      "INFO:tensorflow:Using config: {'_task_type': None, '_task_id': 0, '_cluster_spec': <tensorflow.python.training.server_lib.ClusterSpec object at 0x7fc6de834ef0>, '_master': '', '_num_ps_replicas': 0, '_num_worker_replicas': 0, '_environment': 'local', '_is_chief': True, '_evaluation_master': '', '_train_distribute': None, '_eval_distribute': None, '_device_fn': None, '_tf_config': gpu_options {\n",
      "  per_process_gpu_memory_fraction: 1.0\n",
      "}\n",
      ", '_tf_random_seed': None, '_save_summary_steps': 100, '_save_checkpoints_secs': 600, '_log_step_count_steps': 100, '_protocol': None, '_session_config': None, '_save_checkpoints_steps': None, '_keep_checkpoint_max': 5, '_keep_checkpoint_every_n_hours': 10000, '_model_dir': '/tmp/tmpg_0apoy7'}\n",
      "INFO:tensorflow:Create CheckpointSaverHook.\n",
      "INFO:tensorflow:Graph was finalized.\n",
      "INFO:tensorflow:Running local_init_op.\n",
      "INFO:tensorflow:Done running local_init_op.\n",
      "INFO:tensorflow:Saving checkpoints for 0 into /tmp/tmpg_0apoy7/model.ckpt.\n",
      "INFO:tensorflow:loss = 2.3481157, step = 1\n",
      "INFO:tensorflow:Saving checkpoints for 100 into /tmp/tmpg_0apoy7/model.ckpt.\n",
      "INFO:tensorflow:Loss for final step: 0.4282771.\n",
      "INFO:tensorflow:Starting evaluation at 2018-10-28-20:52:10\n",
      "INFO:tensorflow:Graph was finalized.\n",
      "INFO:tensorflow:Restoring parameters from /tmp/tmpg_0apoy7/model.ckpt-100\n",
      "INFO:tensorflow:Running local_init_op.\n",
      "INFO:tensorflow:Done running local_init_op.\n",
      "INFO:tensorflow:Finished evaluation at 2018-10-28-20:52:10\n",
      "INFO:tensorflow:Saving dict for global step 100: accuracy = 0.8962, global_step = 100, loss = 0.40443468\n",
      "Accuracy: 0.896200\n"
     ]
    }
   ],
   "source": [
    "# A wider network \n",
    "feature_columns = [tf.contrib.layers.real_valued_column(\"\", dimension=784)] \n",
    " \n",
    "optimizer = tf.train.GradientDescentOptimizer(learning_rate=.1) \n",
    " \n",
    " \n",
    "# Build 3 layer DNN with 10, 20, 10 units respectively. \n",
    "classifier = tf.contrib.learn.DNNClassifier(feature_columns=feature_columns, \n",
    "                                     hidden_units=[1500], \n",
    "                                     optimizer=optimizer, \n",
    "                                            n_classes=10) \n",
    " \n",
    "# Fit model. \n",
    "classifier.fit(x=x_mnist, \n",
    "               y=y_mnist, \n",
    "               steps=100) \n",
    "# Warning this is veryyyyyyyy slow \n",
    "# Evaluate accuracy. \n",
    "accuracy_score = classifier.evaluate(x=x_mnist_test, \n",
    "                                     y=y_mnist_test)[\"accuracy\"] \n",
    "print('Accuracy: {0:f}'.format(accuracy_score)) \n"
   ]
  },
  {
   "cell_type": "code",
   "execution_count": 0,
   "metadata": {
    "colab": {},
    "colab_type": "code",
    "id": "ND3c7LbMZ2bu"
   },
   "outputs": [],
   "source": []
  }
 ],
 "metadata": {
  "colab": {
   "collapsed_sections": [],
   "name": "tensor chapter 13.ipynb",
   "provenance": [],
   "version": "0.3.2"
  },
  "kernelspec": {
   "display_name": "Python 3",
   "language": "python",
   "name": "python3"
  },
  "language_info": {
   "codemirror_mode": {
    "name": "ipython",
    "version": 3
   },
   "file_extension": ".py",
   "mimetype": "text/x-python",
   "name": "python",
   "nbconvert_exporter": "python",
   "pygments_lexer": "ipython3",
   "version": "3.7.0"
  }
 },
 "nbformat": 4,
 "nbformat_minor": 1
}
