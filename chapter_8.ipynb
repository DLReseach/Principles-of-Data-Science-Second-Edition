{
 "cells": [
  {
   "cell_type": "code",
   "execution_count": 1,
   "metadata": {},
   "outputs": [],
   "source": [
    "import numpy as np\n",
    "import pandas as pd\n",
    "import scipy.stats as stats\n",
    "import matplotlib.pyplot as plt\n",
    "import random\n",
    "import math\n",
    "%matplotlib inline"
   ]
  },
  {
   "cell_type": "code",
   "execution_count": 11,
   "metadata": {},
   "outputs": [
    {
     "data": {
      "text/plain": [
       "43.002372"
      ]
     },
     "execution_count": 11,
     "metadata": {},
     "output_type": "execute_result"
    }
   ],
   "source": [
    "np.random.seed(1234)\n",
    "long_breaks = stats.poisson.rvs(loc=10, mu=60, size=3000)\n",
    "short_breaks = stats.poisson.rvs(loc=10, mu=15, size=6000)\n",
    "breaks = np.concatenate((long_breaks, short_breaks))\n",
    "\n",
    "breaks.mean()\n",
    "\n",
    "np.random.seed(10)\n",
    "population_ages1 = stats.poisson.rvs(loc=18, mu=35, size=150000)\n",
    "population_ages2 = stats.poisson.rvs(loc=18, mu=10, size=100000)\n",
    "population_ages = np.concatenate((population_ages1, population_ages2))\n",
    "\n",
    "population_ages.mean()"
   ]
  },
  {
   "cell_type": "code",
   "execution_count": 13,
   "metadata": {},
   "outputs": [
    {
     "name": "stdout",
     "output_type": "stream",
     "text": [
      "hispanic proportion estimate:\n",
      "0.108\n",
      "other proportion estimate:\n",
      "0.308\n",
      "asian proportion estimate:\n",
      "0.301\n",
      "white proportion estimate:\n",
      "0.176\n",
      "black proportion estimate:\n",
      "0.107\n"
     ]
    }
   ],
   "source": [
    "employee_races = ([\"white\"]*2000) + ([\"black\"]*1000) +\\\n",
    "                   ([\"hispanic\"]*1000) + ([\"asian\"]*3000) +\\\n",
    "                   ([\"other\"]*3000)\n",
    "\n",
    "        \n",
    "demo_sample = random.sample(employee_races, 1000)   # Sample 1000 values\n",
    "\n",
    "for race in set(demo_sample):\n",
    "    print( race + \" proportion estimate:\" )\n",
    "    print( demo_sample.count(race)/1000. )"
   ]
  },
  {
   "cell_type": "code",
   "execution_count": 21,
   "metadata": {},
   "outputs": [
    {
     "data": {
      "text/plain": [
       "3.6679999999999993"
      ]
     },
     "execution_count": 21,
     "metadata": {},
     "output_type": "execute_result"
    }
   ],
   "source": [
    "sample_breaks = np.random.choice(a= breaks,size=100)            # Sample 100 values\n",
    "\n",
    "sample_ages = np.random.choice(a= population_ages,\n",
    "                               size=1000)            # Sample 1000 values\n",
    "                               \n",
    "sample_ages.mean()-sample_breaks.mean()    # Check difference between means\n"
   ]
  },
  {
   "cell_type": "code",
   "execution_count": null,
   "metadata": {},
   "outputs": [],
   "source": []
  },
  {
   "cell_type": "code",
   "execution_count": 22,
   "metadata": {
    "scrolled": true
   },
   "outputs": [
    {
     "data": {
      "text/plain": [
       "array([[<matplotlib.axes._subplots.AxesSubplot object at 0x0000027C18ED8EB8>]],\n",
       "      dtype=object)"
      ]
     },
     "execution_count": 22,
     "metadata": {},
     "output_type": "execute_result"
    },
    {
     "data": {
      "image/png": "[encoded data removed]",
      "text/plain": [
       "<Figure size 432x288 with 1 Axes>"
      ]
     },
     "metadata": {
      "needs_background": "light"
     },
     "output_type": "display_data"
    }
   ],
   "source": [
    "pd.DataFrame(breaks).hist(bins=50,range=(5,100))"
   ]
  },
  {
   "cell_type": "code",
   "execution_count": 23,
   "metadata": {},
   "outputs": [
    {
     "data": {
      "text/plain": [
       "array([[<matplotlib.axes._subplots.AxesSubplot object at 0x0000027C18ED8D30>]],\n",
       "      dtype=object)"
      ]
     },
     "execution_count": 23,
     "metadata": {},
     "output_type": "execute_result"
    },
    {
     "data": {
      "image/png": "[encoded data removed]",
      "text/plain": [
       "<Figure size 432x288 with 1 Axes>"
      ]
     },
     "metadata": {
      "needs_background": "light"
     },
     "output_type": "display_data"
    }
   ],
   "source": [
    "point_estimates = []\n",
    "for x in range(500):         # Generate 500 samples\n",
    "    sample = np.random.choice(a= breaks, size=100) #take a sample of 100 points\n",
    "    point_estimates.append( sample.mean() )\n",
    "    \n",
    "pd.DataFrame(point_estimates).hist()"
   ]
  },
  {
   "cell_type": "code",
   "execution_count": 24,
   "metadata": {},
   "outputs": [
    {
     "data": {
      "text/plain": [
       "0.168164444444443"
      ]
     },
     "execution_count": 24,
     "metadata": {},
     "output_type": "execute_result"
    }
   ],
   "source": [
    "breaks.mean() - np.array(point_estimates).mean()"
   ]
  },
  {
   "cell_type": "code",
   "execution_count": 25,
   "metadata": {},
   "outputs": [
    {
     "data": {
      "text/plain": [
       "(34.69356348056232, 43.30643651943768)"
      ]
     },
     "execution_count": 25,
     "metadata": {},
     "output_type": "execute_result"
    }
   ],
   "source": [
    "sample_size = 100\n",
    "sample = np.random.choice(a= breaks, size = sample_size)\n",
    "\n",
    "sample_mean = sample.mean()\n",
    "# sample mean\n",
    "\n",
    "sample_stdev = sample.std()    \n",
    "# sample standard deviation\n",
    "\n",
    "sigma = sample_stdev/math.sqrt(sample_size)  \n",
    "# population Standard deviation estimate\n",
    "\n",
    "stats.t.interval(alpha = 0.95,              # Confidence level\n",
    "                 df= sample_size - 1,       # Degrees of freedom\n",
    "                 loc = sample_mean,         # Sample mean\n",
    "                 scale = sigma)             # Standard deviation estimate\n"
   ]
  },
  {
   "cell_type": "code",
   "execution_count": 26,
   "metadata": {},
   "outputs": [],
   "source": [
    "def makeConfidenceInterval():\n",
    "    sample_size = 100\n",
    "    sample = np.random.choice(a= breaks, size = sample_size)\n",
    "\n",
    "    sample_mean = sample.mean()\n",
    "    # sample mean\n",
    "\n",
    "    sample_stdev = sample.std()    \n",
    "    # sample standard deviation\n",
    "\n",
    "    sigma = sample_stdev/math.sqrt(sample_size)  \n",
    "    # population Standard deviation estimate\n",
    "\n",
    "    return stats.t.interval(alpha = 0.95,              # Confidence level\n",
    "                     df= sample_size - 1,       # Degrees of freedom\n",
    "                     loc = sample_mean,         # Sample mean\n",
    "                     scale = sigma)             # Standard deviation estimate\n"
   ]
  },
  {
   "cell_type": "code",
   "execution_count": 28,
   "metadata": {},
   "outputs": [
    {
     "name": "stdout",
     "output_type": "stream",
     "text": [
      "0.9479\n"
     ]
    }
   ],
   "source": [
    "times_in_interval = 0.\n",
    "for i in range(10000):\n",
    "    interval = makeConfidenceInterval()\n",
    "    if 39.99 >= interval[0] and 39.99 <= interval[1]:\n",
    "    # if 39.99 falls in the interval\n",
    "        times_in_interval += 1\n",
    "\n",
    "print(times_in_interval / 10000)"
   ]
  },
  {
   "cell_type": "code",
   "execution_count": 29,
   "metadata": {},
   "outputs": [
    {
     "name": "stdout",
     "output_type": "stream",
     "text": [
      "39.99944444444444\n",
      "35.1125\n"
     ]
    }
   ],
   "source": [
    "long_breaks_in_engineering = stats.poisson.rvs(loc=10, mu=55, size=100)\n",
    "short_breaks_in_engineering = stats.poisson.rvs(loc=10, mu=15, size=300)\n",
    "engineering_breaks = np.concatenate((long_breaks_in_engineering, short_breaks_in_engineering))\n",
    "\n",
    "print(breaks.mean())\n",
    "print(engineering_breaks.mean())"
   ]
  },
  {
   "cell_type": "code",
   "execution_count": 33,
   "metadata": {},
   "outputs": [],
   "source": [
    "t_statistic, p_value = stats.ttest_1samp(a= engineering_breaks,               # Sample data\n",
    "                 popmean= breaks.mean())  # Population mean"
   ]
  },
  {
   "cell_type": "code",
   "execution_count": 34,
   "metadata": {},
   "outputs": [
    {
     "data": {
      "text/plain": [
       "(-5.4016424891943355, 1.1371815881279317e-07)"
      ]
     },
     "execution_count": 34,
     "metadata": {},
     "output_type": "execute_result"
    }
   ],
   "source": [
    "t_statistic, p_value"
   ]
  },
  {
   "cell_type": "code",
   "execution_count": 35,
   "metadata": {},
   "outputs": [],
   "source": [
    "observed = [102, 178, 186, 34]\n",
    "expected = [156, 165.5, 147, 31.5]"
   ]
  },
  {
   "cell_type": "code",
   "execution_count": 36,
   "metadata": {},
   "outputs": [
    {
     "data": {
      "text/plain": [
       "(30.1817679275599, 1.26374310311106e-06)"
      ]
     },
     "execution_count": 36,
     "metadata": {},
     "output_type": "execute_result"
    }
   ],
   "source": [
    "chi_squared, p_value = stats.chisquare(f_obs= observed,   # Array of observed counts\n",
    "                f_exp= expected)   # Array of expected counts\n",
    "chi_squared, p_value"
   ]
  },
  {
   "cell_type": "code",
   "execution_count": 37,
   "metadata": {},
   "outputs": [
    {
     "data": {
      "text/plain": [
       "(0.04762692369491045, 0.8272452870442226)"
      ]
     },
     "execution_count": 37,
     "metadata": {},
     "output_type": "execute_result"
    }
   ],
   "source": [
    "observed = np.array([[134, 54],[110, 48]])\n",
    "chi_squared, p_value, degrees_of_freedom, matrix = stats.chi2_contingency(observed= observed)\n",
    "chi_squared, p_value"
   ]
  },
  {
   "cell_type": "code",
   "execution_count": null,
   "metadata": {},
   "outputs": [],
   "source": []
  }
 ],
 "metadata": {
  "kernelspec": {
   "display_name": "Python 3",
   "language": "python",
   "name": "python3"
  },
  "language_info": {
   "codemirror_mode": {
    "name": "ipython",
    "version": 3
   },
   "file_extension": ".py",
   "mimetype": "text/x-python",
   "name": "python",
   "nbconvert_exporter": "python",
   "pygments_lexer": "ipython3",
   "version": "3.7.0"
  }
 },
 "nbformat": 4,
 "nbformat_minor": 2
}
